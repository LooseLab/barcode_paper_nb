{
 "cells": [
  {
   "cell_type": "markdown",
   "id": "e39f0a70-e014-43f8-a17f-8a52d84f2612",
   "metadata": {},
   "source": [
    "### Inspect the batch times of the Gridion barcoded experiment and the promethion barcoded experiment\n",
    "\n",
    "Uses the old format of readfish logs - <>R/<>S"
   ]
  },
  {
   "cell_type": "markdown",
   "id": "7d23715b-6647-4e73-89d0-160f8b395088",
   "metadata": {},
   "source": [
    "Runs were simulated using Icarust 0.0.7, commit cf27f12071f7c9b515883d5e3bf645aad4609831 using the `config_dnar10_5Khz_human_barcoded.toml`, a copy of which has been included in this repository.\n",
    "They were run for two hours a piece using the command:\n",
    "```bash\n",
    "cargo run -r -- -s Profile_tomls/config_dnar10_5khz_human_barcoded.toml -c config_grid.ini -v -p \n",
    "```\n",
    "\n",
    "Where the number of channels and the break_read_chunks was changed to 512 and 0.8 for prom and 3000 and 1.0 for prom. \n",
    "\n",
    "On a Promethion P48 Beta tower. The basecalling server was dorado using the following comand:\n",
    "\n",
    "```bash\n",
    "sudo ./bin/dorado_basecall_server --log_path /var/log/dorado -d /data/projects/rory_says_hi/ont-dorado-server/data/ --config dna_r10.4.1_e8.2_400bps_5khz_fast_prom.cfg --ipc_threads 16 --port /tmp/.guppy/5556 --dorado_download_path /opt/ont/dorado-models --device cuda:all --num_alignment_threads 24\n",
    "```\n",
    "\n",
    "The profiling files were agthered using a special fork of readfish 2024.2.0, commit cd20ff16c5f3a5f54124515fe58aabde3dc8df3a\n",
    "https://github.com/LooseLab/readfish/tree/profiling\n",
    "\n",
    "The readfish logs for the experiments in the paper comparing NA12878 vs. 22Rv1 and NB4 are also included and they are analysed at the start of this notebook."
   ]
  },
  {
   "cell_type": "code",
   "execution_count": null,
   "id": "ef3ac184-9f64-45ad-a110-665548ccf744",
   "metadata": {},
   "outputs": [],
   "source": [
    "import argparse\n",
    "import lzma\n",
    "import re\n",
    "import sys\n",
    "from itertools import pairwise\n",
    "from pathlib import Path\n",
    "from string import ascii_uppercase\n",
    "\n",
    "import matplotlib as mpl\n",
    "import matplotlib.pyplot as plt\n",
    "import numpy as np\n",
    "import pandas as pd\n",
    "import seaborn as sns\n",
    "from matplotlib.ticker import EngFormatter, FuncFormatter, ScalarFormatter"
   ]
  },
  {
   "cell_type": "code",
   "execution_count": null,
   "id": "e4b502f1-8d95-465e-bc08-f117922c34f9",
   "metadata": {},
   "outputs": [],
   "source": [
    "# Supress the Setting with copy warning in the facetted function\n",
    "pd.options.mode.chained_assignment = None\n",
    "mpl.rcParams.update(\n",
    "    {\n",
    "        \"figure.dpi\": 300,\n",
    "        \"figure.facecolor\": \"w\",\n",
    "        \"axes.grid\": True,\n",
    "        \"savefig.facecolor\": \"w\",\n",
    "        \"animation.embed_limit\": 2**128,\n",
    "    }\n",
    ")"
   ]
  },
  {
   "cell_type": "markdown",
   "id": "5c82c320-00ca-4f8e-9a83-8fd85b882cba",
   "metadata": {},
   "source": [
    "### Analyse the original logs."
   ]
  },
  {
   "cell_type": "code",
   "execution_count": null,
   "id": "6e961805-871f-4156-a243-12d68e84fbcd",
   "metadata": {},
   "outputs": [],
   "source": [
    "def reader(fn):\n",
    "    pat = re.compile(r\"(.*?) [\\w\\.]+ (\\d+)R\\/(\\d+.\\d+)s\")\n",
    "\n",
    "    def _reader(fh):\n",
    "        for line in fh:\n",
    "            if m := pat.findall(line):\n",
    "                yield m[0]\n",
    "\n",
    "    handler = lzma.open if fn.endswith(\"xz\") else open\n",
    "    with handler(fn, \"rt\") as fh:\n",
    "        df = pd.DataFrame(_reader(fh), columns=[\"Time\", \"Reads\", \"Duration (s)\"])\n",
    "    df[\"Time\"] = pd.to_datetime(df[\"Time\"], format=\"%Y-%m-%d %H:%M:%S,%f\")\n",
    "    df[[\"Reads\", \"Duration (s)\"]] = df[[\"Reads\", \"Duration (s)\"]].astype(\"float\")\n",
    "    df[\"Per read (s)\"] = df[\"Duration (s)\"] / df[\"Reads\"]\n",
    "    return df\n",
    "\n",
    "\n",
    "def plot(data, filename, threshold, name=None, y=\"Duration (s)\", ax=None):\n",
    "    data = data.sort_values(\"Time\", ascending=True)\n",
    "    colour = np.where(data[\"Duration (s)\"].gt(threshold), \"r\", \"b\")\n",
    "    if ax is None:\n",
    "        fig, ax = plt.subplots(figsize=(18, 6))\n",
    "    sns.scatterplot(\n",
    "        data=data,\n",
    "        x=\"Time\",\n",
    "        y=y,\n",
    "        c=colour,\n",
    "        alpha=0.25,\n",
    "        linewidths=0,\n",
    "        edgecolor=None,\n",
    "        s=data[\"Reads\"].pow(1 / 2),\n",
    "        ax=ax,\n",
    "    )\n",
    "    sns.rugplot(data=data, x=\"Time\", y=y, lw=1, alpha=0.005)\n",
    "    gradation = 0.1\n",
    "    # plt.yticks(np.arange(0, np.ceil(data[\"Per read\"].max()) + gradation, gradation))\n",
    "    if name is not None:\n",
    "        fig.suptitle(name)\n",
    "    fig.tight_layout()\n",
    "    fig.savefig(filename)\n",
    "    return ax"
   ]
  },
  {
   "cell_type": "code",
   "execution_count": null,
   "id": "a1d9210b-8c2d-429d-941f-bb415709c99e",
   "metadata": {},
   "outputs": [],
   "source": [
    "# df_prom = pd.concat([reader(f) for f in [\"ru_prom_mappyrs.log.xz\"]], ignore_index=True)"
   ]
  },
  {
   "cell_type": "code",
   "execution_count": null,
   "id": "1f0f54ed-af04-4204-9a57-55b14a3478ab",
   "metadata": {
    "tags": []
   },
   "outputs": [],
   "source": [
    "# fig = plot(df_prom, \"test.pdf\", 1, \"test\")"
   ]
  },
  {
   "cell_type": "code",
   "execution_count": null,
   "id": "f5db41bb-31bd-4073-b58e-0b9b32a1259f",
   "metadata": {
    "tags": []
   },
   "outputs": [],
   "source": [
    "# ax = plot(df_prom, \"test.pdf\", 1, \"test\", y=\"Per read (s)\")\n",
    "# plt.yscale(\"log\")\n",
    "# ax.set_ylim((0.0001, 1))"
   ]
  },
  {
   "cell_type": "markdown",
   "id": "bec17c5b-c9ce-4551-8446-16cced573403",
   "metadata": {},
   "source": [
    "### Profiling, using the sexy new branch of readfish\n",
    "Ran against Icarust which was simulating either HG38 simple or HG38 simple chr1.\n"
   ]
  },
  {
   "cell_type": "code",
   "execution_count": null,
   "id": "751b83cc-f6c9-4d6c-bad1-b949d9f1793f",
   "metadata": {},
   "outputs": [],
   "source": [
    "dfs = []\n",
    "for f in Path().glob(\"profile_log*.tsv.xz\"):\n",
    "    print(f)\n",
    "    df = pd.read_csv(\n",
    "        f,\n",
    "        sep=\"\\t\",\n",
    "        header=None,\n",
    "        names=\"Loop\\tStage\\tCPU Usage (%)\\tMemory Usage (MB)\\tTime (s)\\tCum. Time (s)\\tNum. Chunks\\tYield\\tBase\\tAl\".split(\n",
    "            \"\\t\"\n",
    "        ),\n",
    "    )\n",
    "    sequencer, aligner = re.findall(\n",
    "        r\"(prom|gridion)_(mappy_rs|mappy|built_in)\", f.stem\n",
    "    )[0]\n",
    "    df[\"Sequencer\"] = sequencer\n",
    "    df[\"Aligner\"] = aligner\n",
    "    df[\"Sequencer/Aligner\"] = f\"{sequencer}/{aligner}\"\n",
    "    # df[\"aligner\"] = aligner\n",
    "    dfs.append(df)\n",
    "df_sim = pd.concat(dfs)\n",
    "df_sim[[\"Timestamp\", \"Loop\"]] = df_sim[\"Loop\"].str.split(\",\", expand=True)"
   ]
  },
  {
   "cell_type": "code",
   "execution_count": null,
   "id": "a23368cf-4edc-4296-ba12-1b9ce916a556",
   "metadata": {},
   "outputs": [],
   "source": [
    "numerical_columns = [\n",
    "    \"Loop\",\n",
    "    \"Yield\",\n",
    "    \"Time (s)\",\n",
    "    \"Cum. Time (s)\",\n",
    "    \"Num. Chunks\",\n",
    "    \"Yield\",\n",
    "    \"Base\",\n",
    "    \"Al\",\n",
    "]\n",
    "for numerical_column in numerical_columns:\n",
    "    df_sim[numerical_column] = pd.to_numeric(df_sim[numerical_column], errors=\"coerce\")\n",
    "df_sim[\"Timestamp\"] = pd.to_datetime(df_sim[\"Timestamp\"])"
   ]
  },
  {
   "cell_type": "markdown",
   "id": "e9f07c6b-da8e-4f58-8ea8-6004468ffc99",
   "metadata": {},
   "source": [
    "Get only the total loop time, which starts when we query for a new batch of read chunks and finishes after we have basecalled, aligned and sent decisions for all chunks in batch"
   ]
  },
  {
   "cell_type": "code",
   "execution_count": null,
   "id": "fc64e448-7b0b-4ce3-b47c-c95544323178",
   "metadata": {},
   "outputs": [],
   "source": [
    "df_all = df_sim[df_sim[\"Stage\"] == \"Total loop\"].sort_values(\"Loop\")\n",
    "# Set the alignment time to match the basecalling time for built in dorado alignments, as there is no way of seperating these, they are essentially the same wghen dorado does the alignments\n",
    "df_all[\"Al\"] = np.where(\n",
    "    df_all[\"Sequencer/Aligner\"].str.contains(\"built\"), df_all[\"Base\"], df_all[\"Al\"]\n",
    ")"
   ]
  },
  {
   "cell_type": "markdown",
   "id": "fa81d68c-c5ac-41bf-90e7-37289ef834d3",
   "metadata": {},
   "source": [
    "The number of time run for"
   ]
  },
  {
   "cell_type": "code",
   "execution_count": null,
   "id": "5aee0627-aecf-41c5-acae-7df97b52f6d6",
   "metadata": {},
   "outputs": [],
   "source": [
    "(\n",
    "    df_all.groupby(\"Sequencer/Aligner\")[\"Timestamp\"].max()\n",
    "    - df_all.groupby(\"Sequencer/Aligner\")[\"Timestamp\"].min()\n",
    ")"
   ]
  },
  {
   "cell_type": "markdown",
   "id": "9794c4f6-6b30-4ad8-8523-c72f0c91eca1",
   "metadata": {},
   "source": [
    "#### Plot bivariate of alignment time vs. basecalling time, all on one plot, splitting them out by hue and kde density esitmates in the margins"
   ]
  },
  {
   "cell_type": "code",
   "execution_count": null,
   "id": "507aa805-707d-437a-b858-47fe7183f77b",
   "metadata": {},
   "outputs": [],
   "source": [
    "g = sns.jointplot(\n",
    "    data=df_all,\n",
    "    x=\"Al\",\n",
    "    y=\"Base\",\n",
    "    kind=\"scatter\",\n",
    "    height=8,\n",
    "    hue=\"Sequencer/Aligner\",\n",
    ")\n",
    "\n",
    "# Set the limits\n",
    "g.ax_joint.set_xlim(0, 2)\n",
    "g.ax_joint.set_ylim(0, 2)\n",
    "g.set_axis_labels(\n",
    "    xlabel=\"Alignment (s)\",\n",
    "    ylabel=\"Basecalling (s)\",\n",
    ")\n",
    "g.savefig(\"test.pdf\")"
   ]
  },
  {
   "cell_type": "code",
   "execution_count": null,
   "id": "fb7f85f9-1962-471a-ac48-3bf0184aba4f",
   "metadata": {},
   "outputs": [],
   "source": [
    "# Normalise the number of bases in a batch by the number of reads in that batch\n",
    "df_all[\"Mean Read Len.\"] = df_all[\"Yield\"] / df_all[\"Num. Chunks\"]\n",
    "# For batches with no chunks in\n",
    "df_all[\"Mean Read Len.\"] = df_all[\"Mean Read Len.\"].fillna(0.0)"
   ]
  },
  {
   "cell_type": "markdown",
   "id": "965bfcb8-e345-4716-9362-cecf6eb139b5",
   "metadata": {},
   "source": [
    "#### Plot bivariate of alignment time vs. basecalling time, all on one plot, splitting them out by hue and kde density esitmates in the margins\n",
    "But this time do it manuall, so we can weight the size of the points on the plot by the number of bases in a batch, and also stack the kde density"
   ]
  },
  {
   "cell_type": "code",
   "execution_count": null,
   "id": "94073452-a80d-481d-9c08-ac112934d678",
   "metadata": {},
   "outputs": [],
   "source": [
    "g = sns.JointGrid(\n",
    "    data=df_all,\n",
    "    x=\"Al\",\n",
    "    y=\"Base\",\n",
    "    hue=\"Sequencer/Aligner\",\n",
    "    height=8,\n",
    ")\n",
    "# g.plot_joint(sns.scatterplot, sizes=(20,200), alpha=0.5)\n",
    "data = df_all[(df_all[\"Al\"] <= 2.0) & (df_all[\"Base\"] <= 2.0)]\n",
    "sns.scatterplot(\n",
    "    ax=g.ax_joint,\n",
    "    size=\"Yield\",\n",
    "    hue=\"Sequencer/Aligner\",\n",
    "    data=data,\n",
    "    x=\"Al\",\n",
    "    y=\"Base\",\n",
    "    sizes=(20, 200),\n",
    ")\n",
    "sns.kdeplot(\n",
    "    ax=g.ax_marg_x,\n",
    "    data=data,\n",
    "    x=\"Al\",\n",
    "    multiple=\"stack\",\n",
    "    hue=\"Sequencer/Aligner\",\n",
    "    legend=False,\n",
    "    gridsize=200,\n",
    ")\n",
    "sns.kdeplot(\n",
    "    ax=g.ax_marg_y,\n",
    "    data=data,\n",
    "    y=\"Base\",\n",
    "    multiple=\"stack\",\n",
    "    hue=\"Sequencer/Aligner\",\n",
    "    legend=False,\n",
    "    gridsize=200,\n",
    ")\n",
    "g.ax_joint.set_xlim(0, 2)\n",
    "g.ax_joint.set_ylim(0, 2)\n",
    "g.set_axis_labels(\n",
    "    xlabel=\"Alignment (s)\",\n",
    "    ylabel=\"Basecalling (s)\",\n",
    ")\n",
    "g.savefig(\"test_manual_weights.pdf\", dpi=300, bbox_inches=\"tight\")"
   ]
  },
  {
   "cell_type": "markdown",
   "id": "48f958ac-e953-4ce5-8495-2ec144f958e0",
   "metadata": {},
   "source": [
    "#### Same as above Jointplot, but weighted by the mean read length of the batch"
   ]
  },
  {
   "cell_type": "code",
   "execution_count": null,
   "id": "71477c45-3a7d-44cf-8fa2-3e8b8ac83d57",
   "metadata": {},
   "outputs": [],
   "source": [
    "g = sns.JointGrid(\n",
    "    data=df_all,\n",
    "    x=\"Al\",\n",
    "    y=\"Base\",\n",
    "    hue=\"Sequencer/Aligner\",\n",
    "    height=8,\n",
    ")\n",
    "# g.plot_joint(sns.scatterplot, sizes=(20,200), alpha=0.5)\n",
    "data = df_all[(df_all[\"Al\"] <= 2.0) & (df_all[\"Base\"] <= 2.0)]\n",
    "sns.scatterplot(\n",
    "    ax=g.ax_joint,\n",
    "    size=\"Mean Read Len.\",\n",
    "    hue=\"Sequencer/Aligner\",\n",
    "    data=data,\n",
    "    x=\"Al\",\n",
    "    y=\"Base\",\n",
    "    sizes=(20, 200),\n",
    ")\n",
    "sns.kdeplot(\n",
    "    ax=g.ax_marg_x,\n",
    "    data=data,\n",
    "    x=\"Al\",\n",
    "    multiple=\"stack\",\n",
    "    hue=\"Sequencer/Aligner\",\n",
    "    legend=False,\n",
    "    gridsize=200,\n",
    ")\n",
    "sns.kdeplot(\n",
    "    ax=g.ax_marg_y,\n",
    "    data=data,\n",
    "    y=\"Base\",\n",
    "    multiple=\"stack\",\n",
    "    hue=\"Sequencer/Aligner\",\n",
    "    legend=False,\n",
    "    gridsize=200,\n",
    ")\n",
    "g.ax_joint.set_xlim(0, 2)\n",
    "g.ax_joint.set_ylim(0, 2)\n",
    "g.set_axis_labels(\n",
    "    xlabel=\"Alignment (s)\",\n",
    "    ylabel=\"Basecalling (s)\",\n",
    ")\n",
    "g.savefig(\"test_manual_weights.pdf\", dpi=300, bbox_inches=\"tight\")"
   ]
  },
  {
   "cell_type": "code",
   "execution_count": null,
   "id": "820722a7-19a9-42d3-becd-fce932997e36",
   "metadata": {},
   "outputs": [],
   "source": [
    "# Function to create a size legend with absolute sizes as determined by the plot\n",
    "def create_size_legend(ax, global_min, global_max, scale=100):\n",
    "    handles = []\n",
    "    labels = [\n",
    "        100_000,\n",
    "        300_000,\n",
    "        500_000,\n",
    "        1_000_000,\n",
    "        2_500_000,\n",
    "        5_000_000,\n",
    "        10_000_000,\n",
    "    ]  # Absolute sizes you want to display\n",
    "    for size in labels:\n",
    "        normalized_size = normalize_sizes(\n",
    "            np.array([size]), global_min, global_max, scale\n",
    "        )\n",
    "        handles.append(\n",
    "            plt.scatter(\n",
    "                [], [], s=normalized_size, alpha=0.5, color=\"gray\", edgecolors=\"w\"\n",
    "            )\n",
    "        )\n",
    "    legend = ax.legend(\n",
    "        handles,\n",
    "        labels,\n",
    "        title=\"Size (absolute)\",\n",
    "        scatterpoints=1,\n",
    "        frameon=True,\n",
    "        labelspacing=1,\n",
    "    )\n",
    "    ax.add_artist(legend)"
   ]
  },
  {
   "cell_type": "code",
   "execution_count": null,
   "id": "2b748604-e749-4bb1-90c0-7deed165c709",
   "metadata": {
    "jupyter": {
     "source_hidden": true
    }
   },
   "outputs": [],
   "source": [
    "# Function to determine colors based on size limits\n",
    "\n",
    "\n",
    "def get_colors(sizes, limits=None):\n",
    "    limits = [-1, 250_000, 500_000, 750_000, 1_000_000] if limits is None else limits\n",
    "    conditions = [(sizes > a) & (sizes <= b) for a, b in pairwise(limits)]\n",
    "    conditions.append((sizes > limits[-1]))\n",
    "    choices = [\"green\", \"orange\", \"red\", \"blue\", \"purple\", \"yellow\", \"teal\"]\n",
    "    return np.select(conditions, choices[: len(conditions)], default=\"gray\")"
   ]
  },
  {
   "cell_type": "code",
   "execution_count": null,
   "id": "4bf377d6-bc75-4ef5-8738-b1ebe3f6e2cc",
   "metadata": {},
   "outputs": [],
   "source": [
    "df_all = df_all.sort_values([\"Sequencer/Aligner\"])"
   ]
  },
  {
   "cell_type": "markdown",
   "id": "31d7c818-f793-4bf5-856b-9728d12de35d",
   "metadata": {},
   "source": [
    "#### As it was hard to groupings where sequencers piled up points on the above plots, split them out into a faceted grid\n",
    "Code for facet grid taken from https://github.com/mwaskom/seaborn/blob/09195d4c314d9477866ba4bd5cb650c3a7c01e41/seaborn/axisgrid.py#L1679"
   ]
  },
  {
   "cell_type": "code",
   "execution_count": null,
   "id": "1f28961c-8c17-45e0-b364-2e72cee82488",
   "metadata": {
    "scrolled": true
   },
   "outputs": [],
   "source": [
    "df_all"
   ]
  },
  {
   "cell_type": "code",
   "execution_count": null,
   "id": "cdb5ad5b-9fb3-44d0-8d2e-539f06574c97",
   "metadata": {
    "jupyter": {
     "source_hidden": true
    },
    "tags": []
   },
   "outputs": [],
   "source": [
    "# Normalise the bases by size across all different aligner/sequencer combinations, otherwise each axis has it'w own max/min size and they aren't comparable ( this now is range [0-1])\n",
    "df_all[\"Norm. bases\"] = (\n",
    "    (df_all[\"Yield\"] - df_all[\"Yield\"].min())\n",
    "    / (df_all[\"Yield\"].max() - df_all[\"Yield\"].min())\n",
    "    * 100\n",
    ")\n",
    "# nice name\n",
    "lookup = {\n",
    "    \"gridion\": \"Gridion\",\n",
    "    \"prom\": \"PromethION\",\n",
    "    \"mappy\": \"Mappy\",\n",
    "    \"mappy_rs\": \"Mappy-rs\",\n",
    "    \"built_in\": \"Dorado Alignments\",\n",
    "}\n",
    "\n",
    "\n",
    "def draw_facetted_joints(\n",
    "    df: pd.DataFrame,\n",
    "    x=\"Al\",\n",
    "    y=\"Base\",\n",
    "    s=\"Yield\",\n",
    "    row_key: str = \"Sequencer\",\n",
    "    col_key: str = \"Aligner\",\n",
    "    ratio: int = 4,\n",
    "    # legend_labels: list[str] = None,\n",
    "    # legend_title=\"Num. bases\",\n",
    "    legend_limits=None,\n",
    "    #     Factor to use to adjust the axis below\n",
    "    dxf=0.03,\n",
    "    dyf=0.065,\n",
    "    labels=iter(ascii_uppercase),\n",
    "    #     horizontal lines to draw on the joint axes\n",
    "    hlines: dict[str, list[float]] = {},\n",
    "    #     vertical lines to draw on the join axes\n",
    "    vlines: dict[str, list[float]] = {},\n",
    "):\n",
    "    cols = df_all[col_key].unique()\n",
    "    rows = df_all[row_key].unique()\n",
    "    ncols = len(cols)\n",
    "    nrows = rows.shape[0]\n",
    "    fig = plt.figure(figsize=(ratio * ncols, ratio * nrows))\n",
    "    gs = plt.GridSpec((ratio * nrows) + nrows, (ratio * ncols) + ncols)\n",
    "    for row_idx, row in enumerate(rows):\n",
    "        for col_idx, col in enumerate(cols):\n",
    "            label = next(labels) if labels else None\n",
    "            #             Pure magic worked out by grid height, sow we can insert the axis for the marginal axes inbetween the main plot axes\n",
    "            sub_grid_row_height = ((row_idx + 1) + row_idx * ratio), (\n",
    "                ratio * (row_idx + 1)\n",
    "            ) + (row_idx + 1)\n",
    "            sub_grid_col_height = (\n",
    "                col_idx * ratio + col_idx,\n",
    "                (col_idx + 1) * ratio + col_idx,\n",
    "            )\n",
    "\n",
    "            ax_joint = fig.add_subplot(\n",
    "                gs[\n",
    "                    sub_grid_row_height[0] : sub_grid_row_height[1],\n",
    "                    sub_grid_col_height[0] : sub_grid_col_height[1],\n",
    "                ]\n",
    "            )\n",
    "            ax_marg_x = fig.add_subplot(\n",
    "                gs[\n",
    "                    sub_grid_row_height[0] - 1,\n",
    "                    sub_grid_col_height[0] : sub_grid_col_height[1],\n",
    "                ],\n",
    "                sharex=ax_joint,\n",
    "            )\n",
    "\n",
    "            ax_marg_y = fig.add_subplot(\n",
    "                gs[\n",
    "                    sub_grid_row_height[0] : sub_grid_row_height[1],\n",
    "                    sub_grid_col_height[1],\n",
    "                ],\n",
    "                sharey=ax_joint,\n",
    "            )\n",
    "            #             Make the plot look nice\n",
    "            plt.setp(ax_marg_x.get_xticklabels(), visible=False)\n",
    "            plt.setp(ax_marg_y.get_yticklabels(), visible=False)\n",
    "            plt.setp(ax_marg_x.get_xticklabels(minor=True), visible=False)\n",
    "            plt.setp(ax_marg_y.get_yticklabels(minor=True), visible=False)\n",
    "            plt.setp(ax_marg_x.yaxis.get_majorticklines(), visible=False)\n",
    "            plt.setp(ax_marg_x.yaxis.get_minorticklines(), visible=False)\n",
    "            plt.setp(ax_marg_y.xaxis.get_majorticklines(), visible=False)\n",
    "            plt.setp(ax_marg_y.xaxis.get_minorticklines(), visible=False)\n",
    "            plt.setp(ax_marg_x.get_yticklabels(), visible=False)\n",
    "            plt.setp(ax_marg_y.get_xticklabels(), visible=False)\n",
    "            plt.setp(ax_marg_x.get_yticklabels(minor=True), visible=False)\n",
    "            plt.setp(ax_marg_y.get_xticklabels(minor=True), visible=False)\n",
    "            ax_marg_x.yaxis.grid(False)\n",
    "            ax_marg_y.xaxis.grid(False)\n",
    "            # Manually adjust the space between specific subplots, otherwise they're too smushed together\n",
    "            dx, dy = 0, 0\n",
    "            # Magic maths I had to work out so they space outwards from the center with outer ones going further than inner ones\n",
    "            dx -= abs(ncols - col_idx + 1) * dxf\n",
    "            dy += abs(nrows - row_idx + 1) * dyf\n",
    "            for ax in [ax_joint, ax_marg_x, ax_marg_y]:\n",
    "                pos = ax.get_position()\n",
    "                new_pos = [\n",
    "                    pos.x0 + dx,\n",
    "                    pos.y0 + dy,\n",
    "                    pos.width,\n",
    "                    pos.height,\n",
    "                ]  # Move ax4 up by 0.05\n",
    "                ax.set_position(new_pos)\n",
    "            #             Subset the main dataframe\n",
    "            df_view = df[(df[row_key] == row) & (df[col_key] == col)]\n",
    "            df_view[\"colour\"] = get_colors(df_view[s], limits=legend_limits)\n",
    "\n",
    "            ax = sns.scatterplot(\n",
    "                data=df_view,\n",
    "                x=\"Al\",\n",
    "                c=df_view[\"colour\"],\n",
    "                y=\"Base\",\n",
    "                size=df_view[s],\n",
    "                ax=ax_joint,\n",
    "                legend=False,\n",
    "                alpha=0.5,\n",
    "            )\n",
    "            ax.tick_params(labelsize=13)\n",
    "\n",
    "            ax_marg_x = sns.kdeplot(\n",
    "                data=df_view,\n",
    "                x=\"Al\",\n",
    "                ax=ax_marg_x,\n",
    "                bw_adjust=0.1,\n",
    "                fill=True,\n",
    "                # palette=\"crest\",\n",
    "            )\n",
    "            ax_marg_y = sns.kdeplot(\n",
    "                data=df_view,\n",
    "                y=\"Base\",\n",
    "                ax=ax_marg_y,\n",
    "                bw_adjust=0.1,\n",
    "                fill=True,\n",
    "                # palette=\"crest\",\n",
    "            )\n",
    "\n",
    "            if not (row, col) in {(\"prom\", \"mappy\"), (\"mappy\", \"prom\")}:\n",
    "                ax_joint.set_xlim(0, 2)\n",
    "                ax_joint.set_ylim(0, 2)\n",
    "            ax_marg_x.set_title(f\"{lookup[row]} with {lookup[col]}\", fontsize=14)\n",
    "            LABEL_FONTSIZE = 14\n",
    "            #             Faff on tidying up labels\n",
    "            if row_idx == len(rows) - 1:\n",
    "                ax_joint.set_xlabel(\"Alignment (s)\", fontsize=LABEL_FONTSIZE)\n",
    "            else:\n",
    "                ax_joint.set_xlabel(\"\")\n",
    "            if col_idx == 0:\n",
    "                ax_joint.set_ylabel(\"Basecalling (s)\", fontsize=LABEL_FONTSIZE)\n",
    "            else:\n",
    "                ax_joint.set_ylabel(\"\")\n",
    "\n",
    "            # label the panel if there is a label\n",
    "            if label is not None:\n",
    "                ax_marg_x.text(\n",
    "                    -0.075,\n",
    "                    0.75,\n",
    "                    label,\n",
    "                    ha=\"center\",\n",
    "                    va=\"center\",\n",
    "                    transform=ax_marg_x.transAxes,\n",
    "                    fontsize=16,\n",
    "                    fontweight=\"semibold\",\n",
    "                )\n",
    "\n",
    "            # Draw vertical and horizontal lines if there are any\n",
    "            if vlines:\n",
    "                for coord in vlines.get(col, []):\n",
    "                    ax_joint.axvline(coord, linewidth=0.75, linestyle=\"--\", c=\"k\")\n",
    "                    ax_marg_x.axvline(coord, linewidth=0.75, linestyle=\"--\", c=\"k\")\n",
    "            if hlines:\n",
    "                for coord in hlines.get(col, []):\n",
    "                    ax_joint.axhline(coord, linewidth=0.75, linestyle=\"--\", c=\"k\")\n",
    "                    ax_marg_y.axhline(coord, linewidth=0.75, linestyle=\"--\", c=\"k\")\n",
    "            ax_joint.yaxis.set_major_formatter(ScalarFormatter())\n",
    "    # create_color_legend(fig, legend_limits, legend_title)\n",
    "\n",
    "    sns.utils.despine(fig)\n",
    "    # fig.suptitle(\n",
    "    #     \"readfish Alignment and Basecalling times for\\n different Aligners on PromethION and GridION\",\n",
    "    #     y=1.3,\n",
    "    #     fontsize=20,\n",
    "    #     fontweight=\"medium\",\n",
    "    #     verticalalignment=\"bottom\",\n",
    "    # )\n",
    "    return fig"
   ]
  },
  {
   "cell_type": "code",
   "execution_count": null,
   "id": "aafd0084-7179-4cf4-ab06-dc936e12941f",
   "metadata": {
    "jupyter": {
     "source_hidden": true
    },
    "tags": []
   },
   "outputs": [],
   "source": [
    "# Function to create a size legend with absolute sizes\n",
    "def create_color_legend(fig, labels=None, title=\"Num. bases\", **kwargs):\n",
    "    colors = [\"green\", \"orange\", \"red\", \"blue\", \"purple\", \"yellow\", \"teal\"]\n",
    "    labels = (\n",
    "        [\n",
    "            \"< 250,000\",\n",
    "            \"250,001 - 500,000\",\n",
    "            \"500,001 - 750,000\",\n",
    "            \"750,001 - 1,000,000\",\n",
    "            \"> 1,000,000\",\n",
    "        ]\n",
    "        if labels is None\n",
    "        else [f\"{a+1} - {b}\" for a, b in pairwise(labels)] + [f\"> {labels[-1]}\"]\n",
    "    )\n",
    "    handles = [\n",
    "        plt.Line2D(\n",
    "            [0], [0], marker=\"o\", color=\"w\", markerfacecolor=color, markersize=10\n",
    "        )\n",
    "        for color in colors[: len(labels)]\n",
    "    ]\n",
    "    legend = fig.legend(\n",
    "        handles,\n",
    "        labels,\n",
    "        title=title,\n",
    "        columnspacing=1,\n",
    "        scatterpoints=1,\n",
    "        ncol=kwargs.pop(\"ncols\", 1),\n",
    "        frameon=kwargs.pop(\"frame_on\", True),\n",
    "        labelspacing=kwargs.pop(\"labelspacing\", 1),\n",
    "        fontsize=12,\n",
    "        bbox_to_anchor=kwargs.pop(\"bbox_to_anchor\", (0.05, 1.05)),\n",
    "        loc=kwargs.pop(\"loc\", \"lower left\"),\n",
    "        **kwargs,\n",
    "    )\n",
    "    return legend"
   ]
  },
  {
   "cell_type": "code",
   "execution_count": null,
   "id": "1e10ab3d-4718-47b9-887e-1dd4cd256f11",
   "metadata": {
    "jupyter": {
     "source_hidden": true
    },
    "scrolled": true,
    "tags": []
   },
   "outputs": [],
   "source": [
    "fig = draw_facetted_joints(\n",
    "    df_all,\n",
    "    row_key=\"Sequencer\",\n",
    "    col_key=\"Aligner\",\n",
    "    ratio=5,\n",
    ")\n",
    "create_color_legend(fig, bbox_to_anchor=(1, 0.65), loc=\"center\")\n",
    "fig.savefig(\"test_facetted.jpg\", bbox_inches=\"tight\")"
   ]
  },
  {
   "cell_type": "code",
   "execution_count": null,
   "id": "419ce260-b41f-42b0-991b-22e79159a745",
   "metadata": {
    "jupyter": {
     "source_hidden": true
    }
   },
   "outputs": [],
   "source": [
    "df_all[\"Sequencer\"].unique()"
   ]
  },
  {
   "cell_type": "code",
   "execution_count": null,
   "id": "fa64d07a-4fe9-458e-9f93-a2992dfc5790",
   "metadata": {
    "jupyter": {
     "source_hidden": true
    }
   },
   "outputs": [],
   "source": [
    "df_all[\"Mean Read Len.\"].agg([\"min\", \"max\"])"
   ]
  },
  {
   "cell_type": "code",
   "execution_count": null,
   "id": "94d978c1-4247-4d1c-a93a-92153c240c3b",
   "metadata": {
    "jupyter": {
     "source_hidden": true
    },
    "scrolled": true,
    "tags": []
   },
   "outputs": [],
   "source": [
    "limits = (-1, 1000, 2000, 3000, 4000, 5000)\n",
    "lines = {\"gridion\": [0.8], \"prom\": [1.0]}\n",
    "fig = draw_facetted_joints(\n",
    "    df_all,\n",
    "    row_key=\"Aligner\",\n",
    "    col_key=\"Sequencer\",\n",
    "    s=\"Mean Read Len.\",\n",
    "    ratio=5,\n",
    "    legend_limits=limits,\n",
    "    labels=iter(ascii_uppercase),\n",
    "\n",
    "    # legend_title=\"\",\n",
    "    dxf=0.065,\n",
    "    dyf=0.03,\n",
    "    vlines=lines,\n",
    "    hlines=lines\n",
    ")\n",
    "create_color_legend(\n",
    "    fig,\n",
    "    labels=limits,\n",
    "    title=\"Batch Mean Read length\",\n",
    "    loc=\"upper center\",\n",
    "    ncols=6,\n",
    "    frame_on=False,\n",
    "    bbox_to_anchor=(0.31, 1.07),\n",
    "    title_fontproperties={\"weight\": \"normal\", \"size\": 13},\n",
    "    labelspacing=0.65\n",
    ")\n",
    "fig.savefig(\"figure_5.jpg\", bbox_inches=\"tight\")\n",
    "fig.savefig(\"figure_5.pdf\", bbox_inches=\"tight\")\n"
   ]
  },
  {
   "cell_type": "code",
   "execution_count": null,
   "id": "448aad6b-38a0-45d6-895b-7b4df6045404",
   "metadata": {},
   "outputs": [],
   "source": [
    "df_sim = df_sim.sort_values([\"Timestamp\", \"Loop\"])"
   ]
  },
  {
   "cell_type": "code",
   "execution_count": null,
   "id": "cff0cf6d-5637-4ed7-8479-839babce7e32",
   "metadata": {},
   "outputs": [],
   "source": [
    "df_sim[\"Memory Usage (MB)\"] = np.where(df_sim[\"Memory Usage (MB)\"]==\"*\", np.NaN, df_sim[\"Memory Usage (MB)\"])"
   ]
  },
  {
   "cell_type": "code",
   "execution_count": null,
   "id": "df4229a0-f306-47c4-a23e-519425552352",
   "metadata": {},
   "outputs": [],
   "source": [
    "df_sim[\"Memory Usage (MB)\"] = df_sim[\"Memory Usage (MB)\"].fillna(method=\"ffill\")"
   ]
  },
  {
   "cell_type": "code",
   "execution_count": null,
   "id": "8f782407-ebed-49c8-b4d7-707d9618c25b",
   "metadata": {},
   "outputs": [],
   "source": [
    "df_all = df_sim[df_sim[\"Stage\"]==\"Total loop\"]"
   ]
  },
  {
   "cell_type": "code",
   "execution_count": null,
   "id": "83896775-3fe2-4b0b-8568-e46d0bf93818",
   "metadata": {},
   "outputs": [],
   "source": [
    "df_all = df_all.drop_duplicates(\"Timestamp\")"
   ]
  },
  {
   "cell_type": "code",
   "execution_count": null,
   "id": "a3a13742-36f5-4295-87ce-5dbc63bd9149",
   "metadata": {},
   "outputs": [],
   "source": [
    "df_all = df_all.reset_index(drop=True)"
   ]
  },
  {
   "cell_type": "code",
   "execution_count": null,
   "id": "2e7802f5-1ff7-41f7-8f29-5c57ce0d0437",
   "metadata": {},
   "outputs": [],
   "source": [
    "df_all[\"Memory Usage (MB)\"] = pd.to_numeric(df_all[\"Memory Usage (MB)\"])\n",
    "df_all[\"CPU Usage (%)\"] = pd.to_numeric(df_all[\"CPU Usage (%)\"])"
   ]
  },
  {
   "cell_type": "code",
   "execution_count": null,
   "id": "a738416d-2714-4a9a-8740-20cf37b874b7",
   "metadata": {},
   "outputs": [],
   "source": [
    "from datetime import datetime\n",
    "df_all"
   ]
  },
  {
   "cell_type": "code",
   "execution_count": null,
   "id": "39d7cd42-9528-44c9-8372-67ab25ab72ab",
   "metadata": {},
   "outputs": [],
   "source": [
    "t = df_all.groupby(\"Sequencer/Aligner\", as_index=False)[\"Timestamp\"].apply(lambda x: datetime.utcfromtimestamp(0) + (x - x.min()))"
   ]
  },
  {
   "cell_type": "code",
   "execution_count": null,
   "id": "e4122f93-8582-4664-a470-e618a73dd2d9",
   "metadata": {},
   "outputs": [],
   "source": [
    "t.index = t.index.droplevel(0)"
   ]
  },
  {
   "cell_type": "code",
   "execution_count": null,
   "id": "617baa5a-f9ea-4033-9e48-3186d2455374",
   "metadata": {},
   "outputs": [],
   "source": [
    "df_all[\"Timestamp\"] = t"
   ]
  },
  {
   "cell_type": "code",
   "execution_count": null,
   "id": "b75cd55e-a82d-434d-b7ad-dc45875af93f",
   "metadata": {},
   "outputs": [],
   "source": [
    "import seaborn.objects as so\n",
    "import matplotlib.dates as mdates\n",
    "myFmt = mdates.DateFormatter('%H:%M')\n",
    "f = mpl.figure.Figure()\n",
    "p = so.Plot(df_all, \"Timestamp\", color=\"Sequencer/Aligner\").pair(y=[\"Memory Usage (MB)\", \"CPU Usage (%)\"]).layout(size=(8, 4)).facet(col=\"Sequencer/Aligner\")\n",
    "p = p.add(so.Area(), legend=False).share(x=False).on(f).plot()\n",
    "for i, ax in enumerate(p._figure.get_axes()):\n",
    "    if i < 6:\n",
    "        offset = 0 if i % 2 else 0.08\n",
    "        ax.set_title(ax.get_title(), fontsize=8, y =1 + offset)\n",
    "    else:\n",
    "        pass\n",
    "    ax.xaxis.set_major_formatter(myFmt)\n",
    "    ax.tick_params(axis=\"x\", rotation=90, labelsize=6, pad=0.1, length=0.4)\n",
    "    if i == 8:\n",
    "        ax.set_xlabel(\"Run time (H:M)\", x=1, ha=\"center\")\n",
    "    else:\n",
    "        ax.set_xlabel(\"\")\n",
    "\n",
    "f.align_ylabels()\n",
    "#     ax.tick_params(axis=\"x\", labelsize=6, rotation=90)\n",
    "p.save(\"Supplemental_Fig_S6.pdf\", bbox_inches=\"tight\", dpi=300)\n",
    "p.save(\"Supplemental_Fig_S6.jpg\", bbox_inches=\"tight\", dpi=300)"
   ]
  },
  {
   "cell_type": "code",
   "execution_count": null,
   "id": "2a5ba8c7-20b3-46ff-bc90-2dee6d748753",
   "metadata": {
    "tags": []
   },
   "outputs": [],
   "source": [
    "df2 = df_all.melt(\n",
    "    id_vars=[\"Sequencer\", \"Aligner\"],\n",
    "    value_vars=[\"Base\", \"Al\", \"Time (s)\"],\n",
    "    var_name=\"Type\",\n",
    ")\n",
    "df2[\"Combined\"] = df2.apply(\n",
    "    lambda row: f\"{row['Sequencer']}/{row['Aligner']}/{row['Type']}\", axis=1\n",
    ")\n",
    "g = sns.displot(data=df2, x=\"value\", hue=\"Combined\", multiple=\"stack\")\n",
    "g.set(xlim=(0, 1.5))"
   ]
  },
  {
   "cell_type": "code",
   "execution_count": null,
   "id": "8529836b-d25d-4280-bdf8-252ab8deb39c",
   "metadata": {
    "tags": []
   },
   "outputs": [],
   "source": [
    "g = sns.displot(\n",
    "    data=df2,\n",
    "    x=\"value\",\n",
    "    hue=\"Type\",\n",
    "    multiple=\"layer\",\n",
    "    row=\"Sequencer\",\n",
    "    col=\"Aligner\",\n",
    "    element=\"poly\",\n",
    ")\n",
    "g.set(xlim=(0, 1.5))"
   ]
  },
  {
   "cell_type": "code",
   "execution_count": null,
   "id": "a23a86f0-edb0-454c-9a5e-04870ee60589",
   "metadata": {},
   "outputs": [],
   "source": [
    "import matplotlib.pyplot as plt\n",
    "import pandas as pd\n",
    "import seaborn as sns\n",
    "from IPython.display import HTML\n",
    "from matplotlib.animation import FuncAnimation\n",
    "from mpl_toolkits.mplot3d import Axes3D\n",
    "\n",
    "# Example dataframe\n",
    "data = {\n",
    "    \"x\": [1, 2, 3, 4, 5, 6, 7, 8, 9, 10],\n",
    "    \"y\": [5, 6, 7, 8, 9, 10, 11, 12, 13, 14],\n",
    "    \"z\": [10, 9, 8, 7, 6, 5, 4, 3, 2, 1],\n",
    "    \"category\": [\"A\", \"A\", \"A\", \"A\", \"B\", \"B\", \"B\", \"B\", \"B\", \"B\"],\n",
    "}\n",
    "\n",
    "\n",
    "# Apply Seaborn styling\n",
    "sns.set(style=\"whitegrid\")\n",
    "\n",
    "# Create a 3D plot\n",
    "fig = plt.figure()\n",
    "ax = fig.add_subplot(111, projection=\"3d\")\n",
    "\n",
    "# Scatter plot\n",
    "for category, group in df_all.groupby(\"Sequencer/Aligner\"):\n",
    "    ax.scatter(\n",
    "        group[\"Al\"], group[\"Base\"], group[\"Time (s)\"], label=category, s=0.1, alpha=0.5\n",
    "    )\n",
    "\n",
    "# Set labels\n",
    "ax.set_xlabel(\"Alignment (s)\")\n",
    "ax.set_ylabel(\"Base calling (s)\")\n",
    "ax.set_zlabel(\"Total Loop (s)\")\n",
    "\n",
    "\n",
    "ax.set_xlim(0, 2)\n",
    "ax.set_ylim(0, 2)\n",
    "ax.set_zlim(0, 2)\n",
    "\n",
    "# Add legend outside the plot\n",
    "ax.view_init(elev=20, azim=65)\n",
    "\n",
    "ax.legend(bbox_to_anchor=(1.15, 0.5), loc=\"center left\", markerscale=5)\n",
    "# fig = plt.gcf()\n",
    "# sns.move_legend(ax, loc=\"right\")\n",
    "# Show plot\n",
    "\n",
    "\n",
    "def update(num, ax):\n",
    "    ax.view_init(elev=20, azim=num)\n",
    "\n",
    "\n",
    "# Create animation\n",
    "ani = FuncAnimation(fig, update, frames=range(0, 361, 2), fargs=(ax,), interval=100)\n",
    "# Save animation as GIF\n",
    "ani.save(\"rotation_animation.gif\", writer=\"pillow\", fps=10)\n",
    "\n",
    "# Display animation\n",
    "HTML(ani.to_jshtml())\n",
    "# Rotate the axes and update\n",
    "# for angle in range(0, 360*4 + 1):\n",
    "#     # Normalize the angle to the range [-180, 180] for display\n",
    "#     angle_norm = (angle + 180) % 360 - 180\n",
    "\n",
    "#     # Cycle through a full rotation of elevation, then azimuth, roll, and all\n",
    "#     elev = azim = roll = 0\n",
    "#     if angle <= 360:\n",
    "#         elev = angle_norm\n",
    "#     elif angle <= 360*2:\n",
    "#         azim = angle_norm\n",
    "#     elif angle <= 360*3:\n",
    "#         roll = angle_norm\n",
    "#     else:\n",
    "#         elev = azim = roll = angle_norm\n",
    "\n",
    "#     # Update the axis view and title\n",
    "#     ax.view_init(elev, azim, roll)\n",
    "#     plt.title('Elevation: %d°, Azimuth: %d°, Roll: %d°' % (elev, azim, roll))\n",
    "\n",
    "#     plt.draw()\n",
    "#     plt.pause(.001)"
   ]
  },
  {
   "cell_type": "code",
   "execution_count": null,
   "id": "3324d78b-bc25-4b80-a95f-d22a7e44e2ca",
   "metadata": {},
   "outputs": [],
   "source": []
  }
 ],
 "metadata": {
  "kernelspec": {
   "display_name": "Python 3 (ipykernel)",
   "language": "python",
   "name": "python3"
  },
  "language_info": {
   "codemirror_mode": {
    "name": "ipython",
    "version": 3
   },
   "file_extension": ".py",
   "mimetype": "text/x-python",
   "name": "python",
   "nbconvert_exporter": "python",
   "pygments_lexer": "ipython3",
   "version": "3.10.4"
  }
 },
 "nbformat": 4,
 "nbformat_minor": 5
}
