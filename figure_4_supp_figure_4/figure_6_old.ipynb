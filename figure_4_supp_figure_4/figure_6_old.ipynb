{
 "cells": [
  {
   "cell_type": "markdown",
   "id": "b8c7f07f",
   "metadata": {},
   "source": [
    "### Figure 5 CNV nanopore unblocked data/bionano comparison\n"
   ]
  },
  {
   "cell_type": "code",
   "execution_count": 1,
   "id": "4ed6454f",
   "metadata": {},
   "outputs": [],
   "source": [
    "import gzip\n",
    "from string import ascii_uppercase\n",
    "\n",
    "from readpaf import parse_paf\n",
    "import pandas as pd\n",
    "import numpy as np\n",
    "import matplotlib as mpl\n",
    "import matplotlib.pyplot as plt\n",
    "import matplotlib.gridspec as gridspec\n",
    "from tqdm.notebook import tqdm"
   ]
  },
  {
   "cell_type": "code",
   "execution_count": 2,
   "id": "6fc7a12b",
   "metadata": {},
   "outputs": [
    {
     "data": {
      "text/plain": [
       "PosixPath('/home/adoni5/Projects/Readfish-2.0-Paper/barcode_paper_nb/figure_5_supp_figure_4')"
      ]
     },
     "execution_count": 2,
     "metadata": {},
     "output_type": "execute_result"
    }
   ],
   "source": [
    "from pathlib import Path\n",
    "Path().cwd()"
   ]
  },
  {
   "cell_type": "code",
   "execution_count": 3,
   "id": "6b0d990f",
   "metadata": {},
   "outputs": [],
   "source": [
    "def load_barcoded_data(path, read_kws=None):\n",
    "    \"\"\"Load a PAF file and the first tag (which we hope is `tp')\n",
    "    \n",
    "    Actions performed:\n",
    "     - Filter for primary mappings (`tp:A:P`)\n",
    "     - Keep the highest quality mapping read\n",
    "     - Create the strand dependant `map_start' column\n",
    "    \"\"\"\n",
    "    read_kws = {} if read_kws is None else read_kws\n",
    "    df = pd.read_csv(path, **read_kws)\n",
    "    df = df[df[\"tp\"].eq(\"tp:A:P\")]\n",
    "    df = df.drop_duplicates(subset=\"query_name\", keep=\"first\")\n",
    "    df[\"map_start\"] = np.where(df['strand'].eq(\"+\"), df[\"target_start\"], df['target_end'])\n",
    "    return df"
   ]
  },
  {
   "cell_type": "code",
   "execution_count": 4,
   "id": "a393d760",
   "metadata": {},
   "outputs": [],
   "source": [
    "def paf_to_targets_dict(paf_df, remove=None, sort=True):\n",
    "    \"\"\"Take a PAF DataFrame with columns `target_name' \n",
    "    and `target_length' and return an ordered dict of \n",
    "    targets and their lengths.\n",
    "    \"\"\"\n",
    "    chrom_order = [f\"chr{x}\" for x in \"1 2 3 4 5 6 7 8 9 10 11 12 13 14 15 16 17 18 19 20 21 22 X Y\".split()]\n",
    "    remove = [] if remove is None else remove\n",
    "    remove = [remove] if isinstance(remove, str) else remove\n",
    "    chrs = dict(paf_df[[\"target_name\", \"target_length\"]].drop_duplicates(keep=\"first\").itertuples(index=False))\n",
    "    for chrom in remove:\n",
    "        _ = chrs.pop(chrom, 0)\n",
    "    if sort:\n",
    "        chrs = dict(sorted(chrs.items(), key=lambda t: chrom_order.index(t[0])))\n",
    "    return chrs"
   ]
  },
  {
   "cell_type": "code",
   "execution_count": 5,
   "id": "f8a7a553",
   "metadata": {},
   "outputs": [
    {
     "ename": "FileNotFoundError",
     "evalue": "[Errno 2] No such file or directory: 'paf_files/barcode01.paf'",
     "output_type": "error",
     "traceback": [
      "\u001b[0;31m---------------------------------------------------------------------------\u001b[0m",
      "\u001b[0;31mFileNotFoundError\u001b[0m                         Traceback (most recent call last)",
      "Input \u001b[0;32mIn [5]\u001b[0m, in \u001b[0;36m<cell line: 17>\u001b[0;34m()\u001b[0m\n\u001b[1;32m      1\u001b[0m cols \u001b[38;5;241m=\u001b[39m [\n\u001b[1;32m      2\u001b[0m     \u001b[38;5;124m\"\u001b[39m\u001b[38;5;124mquery_name\u001b[39m\u001b[38;5;124m\"\u001b[39m,\n\u001b[1;32m      3\u001b[0m     \u001b[38;5;124m\"\u001b[39m\u001b[38;5;124mquery_length\u001b[39m\u001b[38;5;124m\"\u001b[39m,\n\u001b[0;32m   (...)\u001b[0m\n\u001b[1;32m     14\u001b[0m     \u001b[38;5;124m\"\u001b[39m\u001b[38;5;124mtp\u001b[39m\u001b[38;5;124m\"\u001b[39m,\n\u001b[1;32m     15\u001b[0m ]\n\u001b[1;32m     16\u001b[0m kws \u001b[38;5;241m=\u001b[39m {\u001b[38;5;124m\"\u001b[39m\u001b[38;5;124msep\u001b[39m\u001b[38;5;124m\"\u001b[39m: \u001b[38;5;124m\"\u001b[39m\u001b[38;5;130;01m\\t\u001b[39;00m\u001b[38;5;124m\"\u001b[39m, \u001b[38;5;124m\"\u001b[39m\u001b[38;5;124musecols\u001b[39m\u001b[38;5;124m\"\u001b[39m: \u001b[38;5;28mrange\u001b[39m(\u001b[38;5;241m13\u001b[39m), \u001b[38;5;124m\"\u001b[39m\u001b[38;5;124mnames\u001b[39m\u001b[38;5;124m\"\u001b[39m: cols}\n\u001b[0;32m---> 17\u001b[0m bc_dfs \u001b[38;5;241m=\u001b[39m {\n\u001b[1;32m     18\u001b[0m     \u001b[38;5;124mf\u001b[39m\u001b[38;5;124m\"\u001b[39m\u001b[38;5;124mbarcode\u001b[39m\u001b[38;5;132;01m{\u001b[39;00mf\u001b[38;5;132;01m:\u001b[39;00m\u001b[38;5;124m0>2\u001b[39m\u001b[38;5;132;01m}\u001b[39;00m\u001b[38;5;124m.paf\u001b[39m\u001b[38;5;124m\"\u001b[39m: load_barcoded_data(\u001b[38;5;124mf\u001b[39m\u001b[38;5;124m\"\u001b[39m\u001b[38;5;124mpaf_files/barcode\u001b[39m\u001b[38;5;132;01m{\u001b[39;00mf\u001b[38;5;132;01m:\u001b[39;00m\u001b[38;5;124m0>2\u001b[39m\u001b[38;5;132;01m}\u001b[39;00m\u001b[38;5;124m.paf\u001b[39m\u001b[38;5;124m\"\u001b[39m, kws) \n\u001b[1;32m     19\u001b[0m     \u001b[38;5;28;01mfor\u001b[39;00m f \u001b[38;5;129;01min\u001b[39;00m [\u001b[38;5;241m1\u001b[39m, \u001b[38;5;241m2\u001b[39m, \u001b[38;5;241m3\u001b[39m]\n\u001b[1;32m     20\u001b[0m }\n",
      "Input \u001b[0;32mIn [5]\u001b[0m, in \u001b[0;36m<dictcomp>\u001b[0;34m(.0)\u001b[0m\n\u001b[1;32m      1\u001b[0m cols \u001b[38;5;241m=\u001b[39m [\n\u001b[1;32m      2\u001b[0m     \u001b[38;5;124m\"\u001b[39m\u001b[38;5;124mquery_name\u001b[39m\u001b[38;5;124m\"\u001b[39m,\n\u001b[1;32m      3\u001b[0m     \u001b[38;5;124m\"\u001b[39m\u001b[38;5;124mquery_length\u001b[39m\u001b[38;5;124m\"\u001b[39m,\n\u001b[0;32m   (...)\u001b[0m\n\u001b[1;32m     14\u001b[0m     \u001b[38;5;124m\"\u001b[39m\u001b[38;5;124mtp\u001b[39m\u001b[38;5;124m\"\u001b[39m,\n\u001b[1;32m     15\u001b[0m ]\n\u001b[1;32m     16\u001b[0m kws \u001b[38;5;241m=\u001b[39m {\u001b[38;5;124m\"\u001b[39m\u001b[38;5;124msep\u001b[39m\u001b[38;5;124m\"\u001b[39m: \u001b[38;5;124m\"\u001b[39m\u001b[38;5;130;01m\\t\u001b[39;00m\u001b[38;5;124m\"\u001b[39m, \u001b[38;5;124m\"\u001b[39m\u001b[38;5;124musecols\u001b[39m\u001b[38;5;124m\"\u001b[39m: \u001b[38;5;28mrange\u001b[39m(\u001b[38;5;241m13\u001b[39m), \u001b[38;5;124m\"\u001b[39m\u001b[38;5;124mnames\u001b[39m\u001b[38;5;124m\"\u001b[39m: cols}\n\u001b[1;32m     17\u001b[0m bc_dfs \u001b[38;5;241m=\u001b[39m {\n\u001b[0;32m---> 18\u001b[0m     \u001b[38;5;124mf\u001b[39m\u001b[38;5;124m\"\u001b[39m\u001b[38;5;124mbarcode\u001b[39m\u001b[38;5;132;01m{\u001b[39;00mf\u001b[38;5;132;01m:\u001b[39;00m\u001b[38;5;124m0>2\u001b[39m\u001b[38;5;132;01m}\u001b[39;00m\u001b[38;5;124m.paf\u001b[39m\u001b[38;5;124m\"\u001b[39m: \u001b[43mload_barcoded_data\u001b[49m\u001b[43m(\u001b[49m\u001b[38;5;124;43mf\u001b[39;49m\u001b[38;5;124;43m\"\u001b[39;49m\u001b[38;5;124;43mpaf_files/barcode\u001b[39;49m\u001b[38;5;132;43;01m{\u001b[39;49;00m\u001b[43mf\u001b[49m\u001b[38;5;132;43;01m:\u001b[39;49;00m\u001b[38;5;124;43m0>2\u001b[39;49m\u001b[38;5;132;43;01m}\u001b[39;49;00m\u001b[38;5;124;43m.paf\u001b[39;49m\u001b[38;5;124;43m\"\u001b[39;49m\u001b[43m,\u001b[49m\u001b[43m \u001b[49m\u001b[43mkws\u001b[49m\u001b[43m)\u001b[49m \n\u001b[1;32m     19\u001b[0m     \u001b[38;5;28;01mfor\u001b[39;00m f \u001b[38;5;129;01min\u001b[39;00m [\u001b[38;5;241m1\u001b[39m, \u001b[38;5;241m2\u001b[39m, \u001b[38;5;241m3\u001b[39m]\n\u001b[1;32m     20\u001b[0m }\n",
      "Input \u001b[0;32mIn [3]\u001b[0m, in \u001b[0;36mload_barcoded_data\u001b[0;34m(path, read_kws)\u001b[0m\n\u001b[1;32m      2\u001b[0m \u001b[38;5;124;03m\"\"\"Load a PAF file and the first tag (which we hope is `tp')\u001b[39;00m\n\u001b[1;32m      3\u001b[0m \u001b[38;5;124;03m\u001b[39;00m\n\u001b[1;32m      4\u001b[0m \u001b[38;5;124;03mActions performed:\u001b[39;00m\n\u001b[0;32m   (...)\u001b[0m\n\u001b[1;32m      7\u001b[0m \u001b[38;5;124;03m - Create the strand dependant `map_start' column\u001b[39;00m\n\u001b[1;32m      8\u001b[0m \u001b[38;5;124;03m\"\"\"\u001b[39;00m\n\u001b[1;32m      9\u001b[0m read_kws \u001b[38;5;241m=\u001b[39m {} \u001b[38;5;28;01mif\u001b[39;00m read_kws \u001b[38;5;129;01mis\u001b[39;00m \u001b[38;5;28;01mNone\u001b[39;00m \u001b[38;5;28;01melse\u001b[39;00m read_kws\n\u001b[0;32m---> 10\u001b[0m df \u001b[38;5;241m=\u001b[39m \u001b[43mpd\u001b[49m\u001b[38;5;241;43m.\u001b[39;49m\u001b[43mread_csv\u001b[49m\u001b[43m(\u001b[49m\u001b[43mpath\u001b[49m\u001b[43m,\u001b[49m\u001b[43m \u001b[49m\u001b[38;5;241;43m*\u001b[39;49m\u001b[38;5;241;43m*\u001b[39;49m\u001b[43mread_kws\u001b[49m\u001b[43m)\u001b[49m\n\u001b[1;32m     11\u001b[0m df \u001b[38;5;241m=\u001b[39m df[df[\u001b[38;5;124m\"\u001b[39m\u001b[38;5;124mtp\u001b[39m\u001b[38;5;124m\"\u001b[39m]\u001b[38;5;241m.\u001b[39meq(\u001b[38;5;124m\"\u001b[39m\u001b[38;5;124mtp:A:P\u001b[39m\u001b[38;5;124m\"\u001b[39m)]\n\u001b[1;32m     12\u001b[0m df \u001b[38;5;241m=\u001b[39m df\u001b[38;5;241m.\u001b[39mdrop_duplicates(subset\u001b[38;5;241m=\u001b[39m\u001b[38;5;124m\"\u001b[39m\u001b[38;5;124mquery_name\u001b[39m\u001b[38;5;124m\"\u001b[39m, keep\u001b[38;5;241m=\u001b[39m\u001b[38;5;124m\"\u001b[39m\u001b[38;5;124mfirst\u001b[39m\u001b[38;5;124m\"\u001b[39m)\n",
      "File \u001b[0;32m~/mambaforge/envs/jupyter-lab/lib/python3.10/site-packages/pandas/io/parsers/readers.py:1026\u001b[0m, in \u001b[0;36mread_csv\u001b[0;34m(filepath_or_buffer, sep, delimiter, header, names, index_col, usecols, dtype, engine, converters, true_values, false_values, skipinitialspace, skiprows, skipfooter, nrows, na_values, keep_default_na, na_filter, verbose, skip_blank_lines, parse_dates, infer_datetime_format, keep_date_col, date_parser, date_format, dayfirst, cache_dates, iterator, chunksize, compression, thousands, decimal, lineterminator, quotechar, quoting, doublequote, escapechar, comment, encoding, encoding_errors, dialect, on_bad_lines, delim_whitespace, low_memory, memory_map, float_precision, storage_options, dtype_backend)\u001b[0m\n\u001b[1;32m   1013\u001b[0m kwds_defaults \u001b[38;5;241m=\u001b[39m _refine_defaults_read(\n\u001b[1;32m   1014\u001b[0m     dialect,\n\u001b[1;32m   1015\u001b[0m     delimiter,\n\u001b[0;32m   (...)\u001b[0m\n\u001b[1;32m   1022\u001b[0m     dtype_backend\u001b[38;5;241m=\u001b[39mdtype_backend,\n\u001b[1;32m   1023\u001b[0m )\n\u001b[1;32m   1024\u001b[0m kwds\u001b[38;5;241m.\u001b[39mupdate(kwds_defaults)\n\u001b[0;32m-> 1026\u001b[0m \u001b[38;5;28;01mreturn\u001b[39;00m \u001b[43m_read\u001b[49m\u001b[43m(\u001b[49m\u001b[43mfilepath_or_buffer\u001b[49m\u001b[43m,\u001b[49m\u001b[43m \u001b[49m\u001b[43mkwds\u001b[49m\u001b[43m)\u001b[49m\n",
      "File \u001b[0;32m~/mambaforge/envs/jupyter-lab/lib/python3.10/site-packages/pandas/io/parsers/readers.py:620\u001b[0m, in \u001b[0;36m_read\u001b[0;34m(filepath_or_buffer, kwds)\u001b[0m\n\u001b[1;32m    617\u001b[0m _validate_names(kwds\u001b[38;5;241m.\u001b[39mget(\u001b[38;5;124m\"\u001b[39m\u001b[38;5;124mnames\u001b[39m\u001b[38;5;124m\"\u001b[39m, \u001b[38;5;28;01mNone\u001b[39;00m))\n\u001b[1;32m    619\u001b[0m \u001b[38;5;66;03m# Create the parser.\u001b[39;00m\n\u001b[0;32m--> 620\u001b[0m parser \u001b[38;5;241m=\u001b[39m \u001b[43mTextFileReader\u001b[49m\u001b[43m(\u001b[49m\u001b[43mfilepath_or_buffer\u001b[49m\u001b[43m,\u001b[49m\u001b[43m \u001b[49m\u001b[38;5;241;43m*\u001b[39;49m\u001b[38;5;241;43m*\u001b[39;49m\u001b[43mkwds\u001b[49m\u001b[43m)\u001b[49m\n\u001b[1;32m    622\u001b[0m \u001b[38;5;28;01mif\u001b[39;00m chunksize \u001b[38;5;129;01mor\u001b[39;00m iterator:\n\u001b[1;32m    623\u001b[0m     \u001b[38;5;28;01mreturn\u001b[39;00m parser\n",
      "File \u001b[0;32m~/mambaforge/envs/jupyter-lab/lib/python3.10/site-packages/pandas/io/parsers/readers.py:1620\u001b[0m, in \u001b[0;36mTextFileReader.__init__\u001b[0;34m(self, f, engine, **kwds)\u001b[0m\n\u001b[1;32m   1617\u001b[0m     \u001b[38;5;28mself\u001b[39m\u001b[38;5;241m.\u001b[39moptions[\u001b[38;5;124m\"\u001b[39m\u001b[38;5;124mhas_index_names\u001b[39m\u001b[38;5;124m\"\u001b[39m] \u001b[38;5;241m=\u001b[39m kwds[\u001b[38;5;124m\"\u001b[39m\u001b[38;5;124mhas_index_names\u001b[39m\u001b[38;5;124m\"\u001b[39m]\n\u001b[1;32m   1619\u001b[0m \u001b[38;5;28mself\u001b[39m\u001b[38;5;241m.\u001b[39mhandles: IOHandles \u001b[38;5;241m|\u001b[39m \u001b[38;5;28;01mNone\u001b[39;00m \u001b[38;5;241m=\u001b[39m \u001b[38;5;28;01mNone\u001b[39;00m\n\u001b[0;32m-> 1620\u001b[0m \u001b[38;5;28mself\u001b[39m\u001b[38;5;241m.\u001b[39m_engine \u001b[38;5;241m=\u001b[39m \u001b[38;5;28;43mself\u001b[39;49m\u001b[38;5;241;43m.\u001b[39;49m\u001b[43m_make_engine\u001b[49m\u001b[43m(\u001b[49m\u001b[43mf\u001b[49m\u001b[43m,\u001b[49m\u001b[43m \u001b[49m\u001b[38;5;28;43mself\u001b[39;49m\u001b[38;5;241;43m.\u001b[39;49m\u001b[43mengine\u001b[49m\u001b[43m)\u001b[49m\n",
      "File \u001b[0;32m~/mambaforge/envs/jupyter-lab/lib/python3.10/site-packages/pandas/io/parsers/readers.py:1880\u001b[0m, in \u001b[0;36mTextFileReader._make_engine\u001b[0;34m(self, f, engine)\u001b[0m\n\u001b[1;32m   1878\u001b[0m     \u001b[38;5;28;01mif\u001b[39;00m \u001b[38;5;124m\"\u001b[39m\u001b[38;5;124mb\u001b[39m\u001b[38;5;124m\"\u001b[39m \u001b[38;5;129;01mnot\u001b[39;00m \u001b[38;5;129;01min\u001b[39;00m mode:\n\u001b[1;32m   1879\u001b[0m         mode \u001b[38;5;241m+\u001b[39m\u001b[38;5;241m=\u001b[39m \u001b[38;5;124m\"\u001b[39m\u001b[38;5;124mb\u001b[39m\u001b[38;5;124m\"\u001b[39m\n\u001b[0;32m-> 1880\u001b[0m \u001b[38;5;28mself\u001b[39m\u001b[38;5;241m.\u001b[39mhandles \u001b[38;5;241m=\u001b[39m \u001b[43mget_handle\u001b[49m\u001b[43m(\u001b[49m\n\u001b[1;32m   1881\u001b[0m \u001b[43m    \u001b[49m\u001b[43mf\u001b[49m\u001b[43m,\u001b[49m\n\u001b[1;32m   1882\u001b[0m \u001b[43m    \u001b[49m\u001b[43mmode\u001b[49m\u001b[43m,\u001b[49m\n\u001b[1;32m   1883\u001b[0m \u001b[43m    \u001b[49m\u001b[43mencoding\u001b[49m\u001b[38;5;241;43m=\u001b[39;49m\u001b[38;5;28;43mself\u001b[39;49m\u001b[38;5;241;43m.\u001b[39;49m\u001b[43moptions\u001b[49m\u001b[38;5;241;43m.\u001b[39;49m\u001b[43mget\u001b[49m\u001b[43m(\u001b[49m\u001b[38;5;124;43m\"\u001b[39;49m\u001b[38;5;124;43mencoding\u001b[39;49m\u001b[38;5;124;43m\"\u001b[39;49m\u001b[43m,\u001b[49m\u001b[43m \u001b[49m\u001b[38;5;28;43;01mNone\u001b[39;49;00m\u001b[43m)\u001b[49m\u001b[43m,\u001b[49m\n\u001b[1;32m   1884\u001b[0m \u001b[43m    \u001b[49m\u001b[43mcompression\u001b[49m\u001b[38;5;241;43m=\u001b[39;49m\u001b[38;5;28;43mself\u001b[39;49m\u001b[38;5;241;43m.\u001b[39;49m\u001b[43moptions\u001b[49m\u001b[38;5;241;43m.\u001b[39;49m\u001b[43mget\u001b[49m\u001b[43m(\u001b[49m\u001b[38;5;124;43m\"\u001b[39;49m\u001b[38;5;124;43mcompression\u001b[39;49m\u001b[38;5;124;43m\"\u001b[39;49m\u001b[43m,\u001b[49m\u001b[43m \u001b[49m\u001b[38;5;28;43;01mNone\u001b[39;49;00m\u001b[43m)\u001b[49m\u001b[43m,\u001b[49m\n\u001b[1;32m   1885\u001b[0m \u001b[43m    \u001b[49m\u001b[43mmemory_map\u001b[49m\u001b[38;5;241;43m=\u001b[39;49m\u001b[38;5;28;43mself\u001b[39;49m\u001b[38;5;241;43m.\u001b[39;49m\u001b[43moptions\u001b[49m\u001b[38;5;241;43m.\u001b[39;49m\u001b[43mget\u001b[49m\u001b[43m(\u001b[49m\u001b[38;5;124;43m\"\u001b[39;49m\u001b[38;5;124;43mmemory_map\u001b[39;49m\u001b[38;5;124;43m\"\u001b[39;49m\u001b[43m,\u001b[49m\u001b[43m \u001b[49m\u001b[38;5;28;43;01mFalse\u001b[39;49;00m\u001b[43m)\u001b[49m\u001b[43m,\u001b[49m\n\u001b[1;32m   1886\u001b[0m \u001b[43m    \u001b[49m\u001b[43mis_text\u001b[49m\u001b[38;5;241;43m=\u001b[39;49m\u001b[43mis_text\u001b[49m\u001b[43m,\u001b[49m\n\u001b[1;32m   1887\u001b[0m \u001b[43m    \u001b[49m\u001b[43merrors\u001b[49m\u001b[38;5;241;43m=\u001b[39;49m\u001b[38;5;28;43mself\u001b[39;49m\u001b[38;5;241;43m.\u001b[39;49m\u001b[43moptions\u001b[49m\u001b[38;5;241;43m.\u001b[39;49m\u001b[43mget\u001b[49m\u001b[43m(\u001b[49m\u001b[38;5;124;43m\"\u001b[39;49m\u001b[38;5;124;43mencoding_errors\u001b[39;49m\u001b[38;5;124;43m\"\u001b[39;49m\u001b[43m,\u001b[49m\u001b[43m \u001b[49m\u001b[38;5;124;43m\"\u001b[39;49m\u001b[38;5;124;43mstrict\u001b[39;49m\u001b[38;5;124;43m\"\u001b[39;49m\u001b[43m)\u001b[49m\u001b[43m,\u001b[49m\n\u001b[1;32m   1888\u001b[0m \u001b[43m    \u001b[49m\u001b[43mstorage_options\u001b[49m\u001b[38;5;241;43m=\u001b[39;49m\u001b[38;5;28;43mself\u001b[39;49m\u001b[38;5;241;43m.\u001b[39;49m\u001b[43moptions\u001b[49m\u001b[38;5;241;43m.\u001b[39;49m\u001b[43mget\u001b[49m\u001b[43m(\u001b[49m\u001b[38;5;124;43m\"\u001b[39;49m\u001b[38;5;124;43mstorage_options\u001b[39;49m\u001b[38;5;124;43m\"\u001b[39;49m\u001b[43m,\u001b[49m\u001b[43m \u001b[49m\u001b[38;5;28;43;01mNone\u001b[39;49;00m\u001b[43m)\u001b[49m\u001b[43m,\u001b[49m\n\u001b[1;32m   1889\u001b[0m \u001b[43m\u001b[49m\u001b[43m)\u001b[49m\n\u001b[1;32m   1890\u001b[0m \u001b[38;5;28;01massert\u001b[39;00m \u001b[38;5;28mself\u001b[39m\u001b[38;5;241m.\u001b[39mhandles \u001b[38;5;129;01mis\u001b[39;00m \u001b[38;5;129;01mnot\u001b[39;00m \u001b[38;5;28;01mNone\u001b[39;00m\n\u001b[1;32m   1891\u001b[0m f \u001b[38;5;241m=\u001b[39m \u001b[38;5;28mself\u001b[39m\u001b[38;5;241m.\u001b[39mhandles\u001b[38;5;241m.\u001b[39mhandle\n",
      "File \u001b[0;32m~/mambaforge/envs/jupyter-lab/lib/python3.10/site-packages/pandas/io/common.py:873\u001b[0m, in \u001b[0;36mget_handle\u001b[0;34m(path_or_buf, mode, encoding, compression, memory_map, is_text, errors, storage_options)\u001b[0m\n\u001b[1;32m    868\u001b[0m \u001b[38;5;28;01melif\u001b[39;00m \u001b[38;5;28misinstance\u001b[39m(handle, \u001b[38;5;28mstr\u001b[39m):\n\u001b[1;32m    869\u001b[0m     \u001b[38;5;66;03m# Check whether the filename is to be opened in binary mode.\u001b[39;00m\n\u001b[1;32m    870\u001b[0m     \u001b[38;5;66;03m# Binary mode does not support 'encoding' and 'newline'.\u001b[39;00m\n\u001b[1;32m    871\u001b[0m     \u001b[38;5;28;01mif\u001b[39;00m ioargs\u001b[38;5;241m.\u001b[39mencoding \u001b[38;5;129;01mand\u001b[39;00m \u001b[38;5;124m\"\u001b[39m\u001b[38;5;124mb\u001b[39m\u001b[38;5;124m\"\u001b[39m \u001b[38;5;129;01mnot\u001b[39;00m \u001b[38;5;129;01min\u001b[39;00m ioargs\u001b[38;5;241m.\u001b[39mmode:\n\u001b[1;32m    872\u001b[0m         \u001b[38;5;66;03m# Encoding\u001b[39;00m\n\u001b[0;32m--> 873\u001b[0m         handle \u001b[38;5;241m=\u001b[39m \u001b[38;5;28;43mopen\u001b[39;49m\u001b[43m(\u001b[49m\n\u001b[1;32m    874\u001b[0m \u001b[43m            \u001b[49m\u001b[43mhandle\u001b[49m\u001b[43m,\u001b[49m\n\u001b[1;32m    875\u001b[0m \u001b[43m            \u001b[49m\u001b[43mioargs\u001b[49m\u001b[38;5;241;43m.\u001b[39;49m\u001b[43mmode\u001b[49m\u001b[43m,\u001b[49m\n\u001b[1;32m    876\u001b[0m \u001b[43m            \u001b[49m\u001b[43mencoding\u001b[49m\u001b[38;5;241;43m=\u001b[39;49m\u001b[43mioargs\u001b[49m\u001b[38;5;241;43m.\u001b[39;49m\u001b[43mencoding\u001b[49m\u001b[43m,\u001b[49m\n\u001b[1;32m    877\u001b[0m \u001b[43m            \u001b[49m\u001b[43merrors\u001b[49m\u001b[38;5;241;43m=\u001b[39;49m\u001b[43merrors\u001b[49m\u001b[43m,\u001b[49m\n\u001b[1;32m    878\u001b[0m \u001b[43m            \u001b[49m\u001b[43mnewline\u001b[49m\u001b[38;5;241;43m=\u001b[39;49m\u001b[38;5;124;43m\"\u001b[39;49m\u001b[38;5;124;43m\"\u001b[39;49m\u001b[43m,\u001b[49m\n\u001b[1;32m    879\u001b[0m \u001b[43m        \u001b[49m\u001b[43m)\u001b[49m\n\u001b[1;32m    880\u001b[0m     \u001b[38;5;28;01melse\u001b[39;00m:\n\u001b[1;32m    881\u001b[0m         \u001b[38;5;66;03m# Binary mode\u001b[39;00m\n\u001b[1;32m    882\u001b[0m         handle \u001b[38;5;241m=\u001b[39m \u001b[38;5;28mopen\u001b[39m(handle, ioargs\u001b[38;5;241m.\u001b[39mmode)\n",
      "\u001b[0;31mFileNotFoundError\u001b[0m: [Errno 2] No such file or directory: 'paf_files/barcode01.paf'"
     ]
    }
   ],
   "source": [
    "cols = [\n",
    "    \"query_name\",\n",
    "    \"query_length\",\n",
    "    \"query_start\",\n",
    "    \"query_end\",\n",
    "    \"strand\",\n",
    "    \"target_name\",\n",
    "    \"target_length\",\n",
    "    \"target_start\",\n",
    "    \"target_end\",\n",
    "    \"residue_matches\",\n",
    "    \"alignment_block_length\",\n",
    "    \"mapping_quality\",\n",
    "    \"tp\",\n",
    "]\n",
    "kws = {\"sep\": \"\\t\", \"usecols\": range(13), \"names\": cols}\n",
    "bc_dfs = {\n",
    "    f\"barcode{f:0>2}.paf\": load_barcoded_data(f\"paf_files/barcode{f:0>2}.paf\", kws) \n",
    "    for f in [1, 2, 3]\n",
    "}"
   ]
  },
  {
   "cell_type": "code",
   "execution_count": null,
   "id": "455e3941",
   "metadata": {},
   "outputs": [],
   "source": [
    "df = bc_dfs[\"barcode03.paf\"]"
   ]
  },
  {
   "cell_type": "code",
   "execution_count": null,
   "id": "95747886",
   "metadata": {},
   "outputs": [],
   "source": [
    "bin_size = 50_000\n",
    "df[\"bin\"] = df[\"map_start\"].floordiv(bin_size)\n",
    "plot_df = df.groupby([\"target_name\", \"bin\"], as_index=False).size()\n",
    "plot_df[\"ploidy\"] = plot_df[\"size\"] / plot_df[\"size\"].median() * 2"
   ]
  },
  {
   "cell_type": "code",
   "execution_count": null,
   "id": "dc7ceec8",
   "metadata": {},
   "outputs": [],
   "source": [
    "print(\"target_name   bins  missing_bins\")\n",
    "for name, group in plot_df.groupby(\"target_name\"):\n",
    "    print(f\"{name:>11}  {len(group):>5,}  {(group['bin'].diff() - 1).fillna(0).sum():>12}\")\n",
    "    # break"
   ]
  },
  {
   "cell_type": "markdown",
   "id": "73749f9c",
   "metadata": {},
   "source": [
    "### Rory was here and he said let there be Gridspecs, and it was good"
   ]
  },
  {
   "cell_type": "markdown",
   "id": "8e5579dc",
   "metadata": {},
   "source": [
    "### Etc."
   ]
  },
  {
   "cell_type": "code",
   "execution_count": null,
   "id": "8db359a9",
   "metadata": {},
   "outputs": [],
   "source": [
    "def add_panel_label(letter: str, text_font_dict: dict, axy, x_offset : float = -0.03, y_offset: float = 1.07) -> None:\n",
    "    \"\"\"\n",
    "    Add the panel label (ABC) to the first axes in the Subplots\n",
    "    \"\"\"\n",
    "    axy.text(\n",
    "        x_offset, y_offset, letter,\n",
    "        horizontalalignment='center',\n",
    "        verticalalignment='center',\n",
    "        fontdict=text_font_dict,\n",
    "        transform=axy.transAxes\n",
    "    )"
   ]
  },
  {
   "cell_type": "code",
   "execution_count": null,
   "id": "10b89c2d",
   "metadata": {
    "tags": []
   },
   "outputs": [],
   "source": [
    "grid_ylab = \"Copy number\"\n",
    "grid_ycol = \"ploidy\"\n",
    "grid_ylim = (0, 8)\n",
    "grid_fig_size = (11,10)\n",
    "xcol = \"bin\"\n",
    "grid_file_ext = \"png\"\n",
    "plot_kws = {\"x\": xcol, \"y\": grid_ycol, \"marker\": \".\"}\n",
    "\n",
    "fig = plt.figure(figsize=grid_fig_size)\n",
    "# Make the plot\n",
    "fig.set_facecolor(\"white\")\n",
    "chrs = paf_to_targets_dict(df, remove=\"chrM\")\n",
    "# grid spec 5 rows, 1 column, height ratios (1.21) so the png fills the whole axis\n",
    "gs0 = gridspec.GridSpec(5, 1, figure=fig, height_ratios=[1, 1, 1.21, 1, 1.21])\n",
    "gs0.tight_layout(fig)\n",
    "gs_title_font_dict = {\"fontsize\": 26, \"ha\": \"center\"}\n",
    "\n",
    "# sub gridspecs for the 3 panels we are drawing from nanopore paf data\n",
    "sub_gs_kwargs = {\"ncols\": len(chrs), \"nrows\": 1, \"width_ratios\": chrs.values(), \"wspace\": 0.025}\n",
    "\n",
    "gs01 = gs0[0].subgridspec(**sub_gs_kwargs)\n",
    "gs02 = gs0[1].subgridspec(**sub_gs_kwargs)\n",
    "gs04 = gs0[3].subgridspec(**sub_gs_kwargs)\n",
    "\n",
    "# create all 5 axes for our panels, 3 (1st, 2nd, 4th) are generators yielding axes for each vontig of nanopore data, 2 are single axes to put the PNG on\n",
    "axs_1st = (fig.add_subplot(gs01[i]) for i in range(len(chrs)))\n",
    "axs_2nd = (fig.add_subplot(gs02[i]) for i in range(len(chrs)))\n",
    "axs_3rd = fig.add_subplot(gs0[2])\n",
    "axs_4th = (fig.add_subplot(gs04[i]) for i in range(len(chrs)))\n",
    "axs_5th = fig.add_subplot(gs0[4])\n",
    "\n",
    "# progress bar\n",
    "prog = tqdm(bc_dfs.items(), dynamic_ncols=True)\n",
    "nanopore_axes = (axs_1st, axs_2nd, axs_4th)\n",
    "bionano_axes = (axs_3rd, axs_5th)\n",
    "# PNGs from bionano browser\n",
    "bionano_images = (\"NB4_cropped_cnv.png\", \"22Rv1_cropped_cnv.png\")\n",
    "panel_lables = iter((\"A\", \"B\", \"C\"))\n",
    "\n",
    "for j, (file, df) in enumerate(prog):\n",
    "    chrs = paf_to_targets_dict(df, remove=\"chrM\")\n",
    "\n",
    "\n",
    "# enumerate paf dfs\n",
    "for j, (file, df) in enumerate(prog):\n",
    "    file = \".\".join(file.split('.')[:-1])\n",
    "    # Create bins, aggregate data, normalise to expected copy\n",
    "    df[\"bin\"] = df[\"map_start\"].floordiv(bin_size)\n",
    "    plot_df = df.groupby([\"target_name\", \"bin\"], as_index=False).size()\n",
    "    plot_df[\"ploidy\"] = plot_df[\"size\"] / plot_df[\"size\"].median() * 2\n",
    "\n",
    "    # Get targets for this PAF file\n",
    "    chrs = paf_to_targets_dict(df, remove=\"chrM\")\n",
    "\n",
    "    for i, (ax, target) in enumerate(zip(nanopore_axes[j], chrs.keys())):\n",
    "        target_length = chrs.get(target)\n",
    "        assert target_length is not None, \"This shouldn't happen\"\n",
    "\n",
    "        # Subset data\n",
    "        tmpdf = plot_df[plot_df[\"target_name\"].eq(target) & plot_df[grid_ycol].between(*grid_ylim)]\n",
    "\n",
    "        # Fill missing bins\n",
    "        expected_min = 0\n",
    "        expected_max = (target_length // bin_size) + 1\n",
    "        # Create new index with all expected bins, apply that. \n",
    "        #   See: https://stackoverflow.com/a/25916109\n",
    "        new_index = pd.Index(np.arange(expected_min, expected_max, 1), name=xcol)\n",
    "        tmpdf = tmpdf.set_index(xcol).reindex(new_index).reset_index()\n",
    "        # These maybe unnecessary \n",
    "        tmpdf[\"target_name\"] = tmpdf[\"target_name\"].fillna(target)\n",
    "        tmpdf = tmpdf.fillna(0)\n",
    "\n",
    "        # Generate colours array\n",
    "        colors = (tmpdf[grid_ycol].gt(2)).map({True: \"blue\", False: \"red\"}).to_numpy()\n",
    "        # Plot\n",
    "        tmpdf.plot.scatter(c=colors, ax=ax, **plot_kws, s=0.1)\n",
    "        ax.set_xmargin(0.01)\n",
    "        \n",
    "        # Despine\n",
    "        for side in [\"top\", \"bottom\", \"right\"]:\n",
    "            ax.spines[side].set_visible(False)\n",
    "        # if not first col remove y axis labels\n",
    "        if not ax.get_subplotspec().is_first_col():\n",
    "            ax.yaxis.set_visible(False)\n",
    "        else:\n",
    "            ax.set_ylabel(f\"{grid_ylab}\\n (Nanopore)\", fontsize=\"medium\")\n",
    "            add_panel_label(next(panel_lables), gs_title_font_dict, ax, x_offset=-0.55)\n",
    "        # fixed y lim for each contig axes\n",
    "        ax.set_ylim(0,7)        \n",
    "        # Remove x/y ticks\n",
    "        ax.tick_params(bottom=False, left=False, labelbottom=False)\n",
    "        target = target.lstrip(\"chr\")\n",
    "        ax.set_yticks(np.arange(min(ax.get_ylim()), max(ax.get_ylim())+1/7, (sum(ax.get_ylim())) / 7))\n",
    "        # force 0-7 on axes (mpl scaled down at this in steps of 2, 0-6 )\n",
    "        ax.set_yticklabels(range(0,8,1), fontsize=7)\n",
    "        ax.xaxis.set_label_text(target, fontdict={\"fontsize\": 8})\n",
    "\n",
    "# now append bionano pngs\n",
    "for (ax, im) in zip(bionano_axes, bionano_images):\n",
    "    img = plt.imread(im)\n",
    "    ax.imshow(img)\n",
    "    # fully despine\n",
    "    for side in [\"top\", \"bottom\", \"right\", \"left\"]:\n",
    "        ax.spines[side].set_visible(False)\n",
    "    # remove x/y ticks\n",
    "    ax.tick_params(bottom=False, left=False, labelbottom=False)\n",
    "    ax.set_ylabel(f\"{grid_ylab}\\n (Bionano)\", fontsize=\"medium\")\n",
    "    # unintutively and wierdly going top down, set ticks so they match up with the png lines, done in something resembling pixels, eyeballometrically\n",
    "    ax.set_yticks(np.arange(min(ax.get_ylim())+11, (max(ax.get_ylim())-30), (sum(ax.get_ylim())-45) / 7))\n",
    "    ax.set_yticklabels(range(7,-1,-1), fontsize=7)\n",
    "    \n",
    "\n",
    "fig.savefig(\n",
    "    f\"copy-number-bio-nano-grid-spec-bins.jpg\", \n",
    "    dpi=300, facecolor=\"w\", \n",
    "    transparent=False, \n",
    "    bbox_inches=\"tight\",\n",
    ")"
   ]
  },
  {
   "cell_type": "code",
   "execution_count": null,
   "id": "b835ef9b",
   "metadata": {},
   "outputs": [],
   "source": []
  }
 ],
 "metadata": {
  "kernelspec": {
   "display_name": "Python 3 (ipykernel)",
   "language": "python",
   "name": "python3"
  },
  "language_info": {
   "codemirror_mode": {
    "name": "ipython",
    "version": 3
   },
   "file_extension": ".py",
   "mimetype": "text/x-python",
   "name": "python",
   "nbconvert_exporter": "python",
   "pygments_lexer": "ipython3",
   "version": "3.10.4"
  }
 },
 "nbformat": 4,
 "nbformat_minor": 5
}
