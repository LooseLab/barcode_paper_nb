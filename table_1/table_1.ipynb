{
 "cells": [
  {
   "cell_type": "markdown",
   "id": "5c87ef3c-6dd0-4b09-ae7d-579e9da55163",
   "metadata": {},
   "source": [
    "### Table comparing barcoded Prom and Gridion\n",
    "Generates comparison tables for unblocked and sequenced metrics for the two tables.\n",
    "Goes from sequnecing summary files for these experiments, which are trimmed to only keep the columns we need, and are sorted based on the presence of the read_id in the `unblocked_read_ids.txt` from readfish.\n",
    "\n",
    "Note for me:\n",
    "fast5s for gridion run are here:\n",
    "`/mnt/wastewater/scratch_backup/ML_Runs_GridION/AP_002/BC-3-Panel-Human/20211025_1338_X1_FAQ39590_af835873/fast5*`\n",
    "\n",
    "fast5s for prom run are here:\n",
    "`/mnt/waterprom/ml_runs/PAS_001/NA12878_05_NB4_06_22Rv1_07`\n",
    "\n",
    "Separated with `rftools` which requires the unblocked read ids file, https://github.com/LooseLab/rftools\n",
    "\n",
    "```bash\n",
    "rftools split-ss -p <PREFIX> `20220317_1702_3A_PAK09329_4cae256c` sequencing_summary_PAK09329_e742ec3b.txt\n",
    "```\n",
    "\n",
    "where <PREFIX> is one of a combination of sequencing device and run number, i.e grid1, prom2 etc.\n",
    "\n",
    "Split sequencing summarys were trimmed to only contain relevant information using `qsvlite` - see https://github.com/jqnatividad/qsv?tab=readme-ov-file#option-3-install-with-rust\n",
    "Using the select command:\n",
    "```bash\n",
    "fd -e.txt ed -x qsvlite select -d \"\\t\" -o {.}_lite.tsv read_id,sample_id,sequence_length_template,barcode_arrangement {}\n",
    "```\n",
    "\n",
    "And then compressed with `xz` (in parallel with `fd`, just repalce {} with the filename to be compressed if not using `fd`\n",
    "\n",
    "```bash\n",
    "fd -tf lite -x xz -T 24 -e -z {}\n",
    "```\n",
    "\n",
    "### Alignment\n",
    "Alignment was performed using `minimap2 2.26-r1175`\n",
    "A script for alignment (`align_barcode_fastq`) is provided in the table 1 directory of the repository, the `map-ont` preset is used. This runs the alignment in Parallel for all files using 16 cores, so mayeb edit that.\n",
    "Both PASS and FAIL data is included.\n",
    "The data was called with HAC.\n",
    "\n",
    "### For coverage on and off target\n",
    "To generate files for on and off target coverage we used `mosdepth 0.3.6`.\n",
    "First the reads were mapped to Hg38.p14 with all alt and unplaced contigs removed, leaving only the main chromosome assemblies. \n",
    "Inverse complements regions (for off target based coverage) to the target bed files used were generated with `bedtools v2.31.1`\n",
    "This requires the bedfile to be sorted, this can be done with `bedtools sort`.\n",
    "\n",
    "```bash\n",
    "fd -e .sorted.bed -x sh -c 'bedtools complement -i -g /data/refs/hg38_simple.genome > {.}_inverse_complement.bed'\n",
    "```\n",
    "These are located in the target_beds.\n",
    "\n",
    "Mosdepth was used to calculate median coverage over the regions, and the median of this coverage was taken in this notebook. The targets were correct for each barcode. And example command:\n",
    "```bash\n",
    "mosdepth -m -t 32 -b CancerPanelTargets.sorted.bed -xn all_barcode_07_sequenced ../merged_reads/all_barcode07.sequenced.fastq.bam\n",
    "```\n",
    "\n",
    "An example script to run this in parallel for the Gridion run data is provided, `mosdepth_bam_files`. Again in parallel so user beware thread counts.\n",
    "\n",
    "##### Unclassified coverage\n",
    "For unclassified on/off target coverage, all three gene panel target bed files were merged, and overlaps were collapsed, but with strand awareness for the merging.\n",
    "Merging was performed with `bedtools v2.31.1` using the following command - \n",
    "```bash\n",
    "fd -ae sorted.bed -X cat {} | save -f all_targets.bed\n",
    "bedtools sort -i all_targets.bed | save -f all_targets.sorted.bed\n",
    "bedtools merge -s -i all_targets.sorted.bed | save -f all_targets.merged.sorted.bed\n",
    "bedtools complement -i all_targets.merged.sorted.bed -g /data/refs/hg38_simple.genome | save -f all_targets.sorted_inverse_complement.bed\n",
    "```\n",
    "\n",
    "The script for mosdepth also does the coverage for on/off target coverage in unclassified.\n",
    "\n",
    "## Warning\n",
    "This notebook is memory hungry (>20Gb RAM required). If this is an issue, contact us and we will work out a way to calculate these metrics without loading everything into a dataframe."
   ]
  },
  {
   "cell_type": "code",
   "execution_count": 175,
   "id": "766bdc0d-a44a-4615-a5a4-70b2f1581609",
   "metadata": {},
   "outputs": [],
   "source": [
    "import gc\n",
    "import re\n",
    "import sys\n",
    "from itertools import chain, repeat, zip_longest\n",
    "from pathlib import Path\n",
    "\n",
    "import numpy as np\n",
    "import pandas as pd\n",
    "\n",
    "PAT = re.compile(r\"(sequenced|unblocked)\")\n",
    "gm, nb, rv = (\n",
    "    [\"GM12878\", \"TruSight 170 Tumour Panel\", 170],\n",
    "    [\"NB4\", \"TruSight RNA Fusion Panel\", 508],\n",
    "    [\"22Rv1\", \"COSMIC\", 717],\n",
    ")\n",
    "gridion_samples = {\n",
    "    \"barcode01\": gm,\n",
    "    \"barcode02\": nb,\n",
    "    \"barcode03\": rv,\n",
    "    \"unclassified_grid\": [\"*\", \"*\", \"*\"],\n",
    "}\n",
    "prom_samples = {\n",
    "    \"barcode05\": gm,\n",
    "    \"barcode06\": nb,\n",
    "    \"barcode07\": rv,\n",
    "    \"unclassified_prom\": [\"*\", \"*\", \"*\"],\n",
    "}"
   ]
  },
  {
   "cell_type": "code",
   "execution_count": 2,
   "id": "8a0b9206-6e45-4c07-8254-67441425d76e",
   "metadata": {},
   "outputs": [],
   "source": [
    "def n50(lengths: pd.Series) -> float:\n",
    "    \"\"\"\n",
    "    Returns the N50 of a series of read lengths\n",
    "    \"\"\"\n",
    "    lengths = lengths.sort_values(ascending=False).values\n",
    "    cumulative_sum = lengths.cumsum()\n",
    "    total_length = cumulative_sum[-1]\n",
    "    n50_length = lengths[(cumulative_sum >= total_length / 2).argmax()]\n",
    "    return n50_length"
   ]
  },
  {
   "cell_type": "code",
   "execution_count": 3,
   "id": "6413e831-2c2b-41ed-baf0-fc1ed4fd8b4e",
   "metadata": {},
   "outputs": [],
   "source": [
    "dfs = []\n",
    "for summary in Path(\".\").rglob(\"gridion*.tsv.xz\"):\n",
    "    read_type = PAT.findall(summary.name)[0]\n",
    "    df = pd.read_csv(summary, sep=\"\\t\")\n",
    "    df[\"read_type\"] = read_type\n",
    "    dfs.append(df)\n",
    "\n",
    "gridion_df = pd.concat(dfs)"
   ]
  },
  {
   "cell_type": "code",
   "execution_count": 4,
   "id": "58b6c284-1704-4d26-b11c-ca576132de32",
   "metadata": {},
   "outputs": [
    {
     "name": "stderr",
     "output_type": "stream",
     "text": [
      "/tmp/ipykernel_684477/1983675264.py:3: FutureWarning: The provided callable <function mean at 0x7fcd4c09c700> is currently using SeriesGroupBy.mean. In a future version of pandas, the provided callable will be used directly. To keep current behavior pass the string \"mean\" instead.\n",
      "  ].agg([np.mean, np.sum, n50])\n",
      "/tmp/ipykernel_684477/1983675264.py:3: FutureWarning: The provided callable <function sum at 0x7fcd4c09b250> is currently using SeriesGroupBy.sum. In a future version of pandas, the provided callable will be used directly. To keep current behavior pass the string \"sum\" instead.\n",
      "  ].agg([np.mean, np.sum, n50])\n"
     ]
    }
   ],
   "source": [
    "gridion_summary = gridion_df.groupby([\"read_type\", \"barcode_arrangement\"])[\n",
    "    \"sequence_length_template\"\n",
    "].agg([np.mean, np.sum, n50])"
   ]
  },
  {
   "cell_type": "code",
   "execution_count": 5,
   "id": "f6775ab3-b492-4fb5-b701-8f83cc583a67",
   "metadata": {},
   "outputs": [],
   "source": [
    "gridion_summary = gridion_summary.loc[\n",
    "    :, [\"barcode01\", \"barcode02\", \"barcode03\", \"unclassified\"], :\n",
    "]"
   ]
  },
  {
   "cell_type": "markdown",
   "id": "99af8e68-de9b-462c-9657-8c904ab94e48",
   "metadata": {},
   "source": [
    "## Promethion"
   ]
  },
  {
   "cell_type": "code",
   "execution_count": 6,
   "id": "e033d5ef-1c67-446c-b9a8-b711801ba91c",
   "metadata": {},
   "outputs": [],
   "source": [
    "dfs = []\n",
    "for summary in Path(\".\").rglob(\"sequencing_summaries/prom*.tsv.xz\"):\n",
    "    read_type = PAT.findall(summary.name)[0]\n",
    "    df = pd.read_csv(summary, sep=\"\\t\")\n",
    "    df[\"read_type\"] = read_type\n",
    "    dfs.append(df)\n",
    "\n",
    "prom_df = pd.concat(dfs)"
   ]
  },
  {
   "cell_type": "code",
   "execution_count": 7,
   "id": "03d3691d-39a6-44b8-8e7b-691e4de4c349",
   "metadata": {},
   "outputs": [
    {
     "name": "stderr",
     "output_type": "stream",
     "text": [
      "/tmp/ipykernel_684477/4195199970.py:3: FutureWarning: The provided callable <function mean at 0x7fcd4c09c700> is currently using SeriesGroupBy.mean. In a future version of pandas, the provided callable will be used directly. To keep current behavior pass the string \"mean\" instead.\n",
      "  ].agg([np.mean, np.sum, n50])\n",
      "/tmp/ipykernel_684477/4195199970.py:3: FutureWarning: The provided callable <function sum at 0x7fcd4c09b250> is currently using SeriesGroupBy.sum. In a future version of pandas, the provided callable will be used directly. To keep current behavior pass the string \"sum\" instead.\n",
      "  ].agg([np.mean, np.sum, n50])\n"
     ]
    }
   ],
   "source": [
    "prom_summary = prom_df.groupby([\"read_type\", \"barcode_arrangement\"])[\n",
    "    \"sequence_length_template\"\n",
    "].agg([np.mean, np.sum, n50])"
   ]
  },
  {
   "cell_type": "code",
   "execution_count": 8,
   "id": "44b3c257-5077-4968-b9a8-3f94ab01ab94",
   "metadata": {},
   "outputs": [],
   "source": [
    "prom_summary = prom_summary.loc[\n",
    "    :, [\"barcode05\", \"barcode06\", \"barcode07\", \"unclassified\"], :\n",
    "]"
   ]
  },
  {
   "cell_type": "code",
   "execution_count": 9,
   "id": "9a79e78a-3149-4103-a10c-84fa1bbd824d",
   "metadata": {},
   "outputs": [],
   "source": [
    "gridion_summary = gridion_summary.reset_index()\n",
    "gridion_summary[\"barcode_arrangement\"] = gridion_summary[\"barcode_arrangement\"].map(\n",
    "    lambda x: x if x != \"unclassified\" else \"unclassified_grid\"\n",
    ")\n",
    "gridion_summary[\"Device\"] = \"G.\""
   ]
  },
  {
   "cell_type": "code",
   "execution_count": 10,
   "id": "afb4d610-37f6-4fcd-a1de-b4e14f666ed4",
   "metadata": {},
   "outputs": [],
   "source": [
    "prom_summary = prom_summary.reset_index()\n",
    "prom_summary[\"barcode_arrangement\"] = prom_summary[\"barcode_arrangement\"].map(\n",
    "    lambda x: x if x != \"unclassified\" else \"unclassified_prom\"\n",
    ")\n",
    "prom_summary[\"Device\"] = \"P.\""
   ]
  },
  {
   "cell_type": "code",
   "execution_count": 11,
   "id": "79e95271-55d5-4fe1-acb1-d6823a2e8be6",
   "metadata": {},
   "outputs": [],
   "source": [
    "testing = pd.concat((gridion_summary, prom_summary))"
   ]
  },
  {
   "cell_type": "code",
   "execution_count": 12,
   "id": "1d680980-0143-4ca9-a91a-e26712a31c11",
   "metadata": {},
   "outputs": [],
   "source": [
    "testing = testing.rename(\n",
    "    columns={\n",
    "        \"barcode_arrangement\": \"Barcode\",\n",
    "        \"mean\": \"Mean\",\n",
    "        \"sum\": \"Yield\",\n",
    "        \"n50\": \"N50\",\n",
    "    }\n",
    ")\n",
    "testing[\"read_type\"] = testing[\"read_type\"].map(\n",
    "    {\"sequenced\": \"Seq.\", \"unblocked\": \"Unb.\"}\n",
    ")"
   ]
  },
  {
   "cell_type": "code",
   "execution_count": 116,
   "id": "142d66b9-4c36-4a72-adb4-688dafb1478c",
   "metadata": {},
   "outputs": [],
   "source": [
    "t = testing.pivot(\n",
    "    index=[\"Barcode\", \"Device\"],\n",
    "    columns=\"read_type\",\n",
    "    values=[\n",
    "        \"Yield\",\n",
    "        \"Mean\",\n",
    "        \"N50\",\n",
    "    ],\n",
    ")"
   ]
  },
  {
   "cell_type": "code",
   "execution_count": 117,
   "id": "bb9dc188-ab0f-4fd3-a97e-872a722b7b4a",
   "metadata": {},
   "outputs": [],
   "source": [
    "prom_samples.update(gridion_samples)"
   ]
  },
  {
   "cell_type": "code",
   "execution_count": 118,
   "id": "e0c80c64-dfc2-4155-91be-8ee13a9851b4",
   "metadata": {},
   "outputs": [],
   "source": [
    "t[[\"Sample\", \"Panel\", \"Gene number\"]] = pd.DataFrame.from_records(\n",
    "    t.index.get_level_values(0).map(prom_samples), index=t.index\n",
    ")"
   ]
  },
  {
   "cell_type": "markdown",
   "id": "d6ddf391-a636-437d-83a3-ceb6ac1a77e9",
   "metadata": {},
   "source": [
    "#### Get the regions from the mosdepth files\n"
   ]
  },
  {
   "cell_type": "code",
   "execution_count": 119,
   "id": "81ff5fb6-ae3e-4e45-b3dd-ccf8375c1037",
   "metadata": {},
   "outputs": [],
   "source": [
    "def read_coverages_of_regions() -> pd.DataFrame:\n",
    "    \"\"\"Read the mosdepth coverage region bed files filtering to the given barcodes.\n",
    "    Create a concatenated datafrom of all files, with barcode, coverage and on and off target and return it.\n",
    "    \"\"\"\n",
    "    prom = (\"prom\", \"05\", \"06\", \"07\", \"unclassified_prom\")\n",
    "    grid = (\"grid\", \"01\", \"02\", \"03\", \"unclassified_grid\")\n",
    "    pat = re.compile(r\"(barcode|unclassified[_promgrid]{5})_*(\\d{2})*.*\")\n",
    "    coverages = []\n",
    "    for barcode, device in chain(\n",
    "        zip_longest(prom[1:], [], fillvalue=prom[0]),\n",
    "        zip_longest(grid[1:], [], fillvalue=grid[0]),\n",
    "    ):\n",
    "        files = list(Path(\"mosdepth_region_summaries/\").glob(f\"*{barcode}*.bed.gz\"))\n",
    "        # print(files)\n",
    "        for region_file in files:\n",
    "            region_type = (\n",
    "                \"Off target\"\n",
    "                if \"off_target\" in str(region_file) or \"inverse\" in str(region_file)\n",
    "                else \"On target\"\n",
    "            )\n",
    "            print(f\"\\t{region_file}\\t{region_type}\")\n",
    "            barcode = \"\".join(pat.findall(str(region_file))[0])\n",
    "            # Unclassified and off target bed files do not provide names for records so we shift index for Coverage column down one\n",
    "            usecols = (\n",
    "                [3]\n",
    "                if region_type == \"Off target\" or \"unclassified\" in str(region_file)\n",
    "                else [4]\n",
    "            )\n",
    "            df = pd.read_csv(\n",
    "                region_file, sep=\"\\t\", header=None, usecols=usecols, names=[\"Coverage\"]\n",
    "            )\n",
    "            df[\"barcode\"] = barcode\n",
    "            df[\"region_type\"] = region_type\n",
    "            df[\"Device\"] = f\"{device[0].upper()}.\"\n",
    "            coverages.append(df)\n",
    "    return pd.concat(coverages)"
   ]
  },
  {
   "cell_type": "code",
   "execution_count": 120,
   "id": "9b29a6b7-f339-4c28-b9f0-ad64bf38fd59",
   "metadata": {},
   "outputs": [
    {
     "name": "stdout",
     "output_type": "stream",
     "text": [
      "\tmosdepth_region_summaries/all_barcode_05.regions.bed.gz\tOn target\n",
      "\tmosdepth_region_summaries/all_barcode_05_off_target.regions.bed.gz\tOff target\n",
      "\tmosdepth_region_summaries/all_barcode_06.regions.bed.gz\tOn target\n",
      "\tmosdepth_region_summaries/all_barcode_06_off_target.regions.bed.gz\tOff target\n",
      "\tmosdepth_region_summaries/all_barcode_07.regions.bed.gz\tOn target\n",
      "\tmosdepth_region_summaries/all_barcode_07_off_target.regions.bed.gz\tOff target\n",
      "\tmosdepth_region_summaries/unclassified_prom_off_target.regions.bed.gz\tOff target\n",
      "\tmosdepth_region_summaries/unclassified_prom_on.regions.bed.gz\tOn target\n",
      "\tmosdepth_region_summaries/barcode01_tst_170_coords_extended.sorted.regions.bed.gz\tOn target\n",
      "\tmosdepth_region_summaries/barcode01_tst_170_coords_extended.sorted_inverse_complement.regions.bed.gz\tOff target\n",
      "\tmosdepth_region_summaries/barcode02_tst_fusion_coords_extended.sorted_inverse_complement.regions.bed.gz\tOff target\n",
      "\tmosdepth_region_summaries/barcode02_tst_fusion_coords_extended.sorted.regions.bed.gz\tOn target\n",
      "\tmosdepth_region_summaries/barcode03_CancerPanelTargets.sorted_inverse_complement.regions.bed.gz\tOff target\n",
      "\tmosdepth_region_summaries/barcode03_CancerPanelTargets.sorted.regions.bed.gz\tOn target\n",
      "\tmosdepth_region_summaries/unclassified_grid_all_targets.merged.sorted.regions.bed.gz\tOn target\n",
      "\tmosdepth_region_summaries/unclassified_grid_all_targets.sorted_inverse_complement.regions.bed.gz\tOff target\n"
     ]
    }
   ],
   "source": [
    "coverage_df = read_coverages_of_regions()"
   ]
  },
  {
   "cell_type": "code",
   "execution_count": 121,
   "id": "2794dad3-4c70-4d36-9054-1fae0c3d00f1",
   "metadata": {},
   "outputs": [],
   "source": [
    "a = (\n",
    "    coverage_df.groupby([\"barcode\", \"region_type\", \"Device\"])[\"Coverage\"]\n",
    "    .median()\n",
    "    .reset_index()\n",
    "    .pivot(index=[\"barcode\", \"Device\"], columns=\"region_type\", values=\"Coverage\")\n",
    ")"
   ]
  },
  {
   "cell_type": "code",
   "execution_count": 122,
   "id": "840d5bec-8535-4852-ae56-4d90fa544562",
   "metadata": {},
   "outputs": [],
   "source": [
    "a.index.names = [\"Barcode\", \"Device\"]"
   ]
  },
  {
   "cell_type": "code",
   "execution_count": 123,
   "id": "11624967-2a7f-4b2e-b3f6-862103641f88",
   "metadata": {},
   "outputs": [
    {
     "data": {
      "text/plain": [
       "region_type\n",
       "Off target    float64\n",
       "On target     float64\n",
       "dtype: object"
      ]
     },
     "execution_count": 123,
     "metadata": {},
     "output_type": "execute_result"
    }
   ],
   "source": [
    "a.dtypes"
   ]
  },
  {
   "cell_type": "code",
   "execution_count": 124,
   "id": "490e6a0d-6419-448f-b0a2-071e3ab8ecd4",
   "metadata": {},
   "outputs": [],
   "source": [
    "t[[\"Median Off Target Coverage\", \"Median Target Coverage\"]] = a"
   ]
  },
  {
   "cell_type": "code",
   "execution_count": 125,
   "id": "bdb28028-32c7-4fb1-9284-5e769272d68c",
   "metadata": {},
   "outputs": [],
   "source": [
    "t = t.reindex(\n",
    "    [\n",
    "        (\"barcode01\", \"G.\"),\n",
    "        (\"barcode02\", \"G.\"),\n",
    "        (\"barcode03\", \"G.\"),\n",
    "        (\"unclassified_grid\", \"G.\"),\n",
    "        (\"barcode05\", \"P.\"),\n",
    "        (\"barcode06\", \"P.\"),\n",
    "        (\"barcode07\", \"P.\"),\n",
    "        (\"unclassified_prom\", \"P.\"),\n",
    "    ]\n",
    ")"
   ]
  },
  {
   "cell_type": "code",
   "execution_count": 126,
   "id": "3a9791e4-a14f-404d-b6e4-9dbcba0f0226",
   "metadata": {},
   "outputs": [
    {
     "data": {
      "text/html": [
       "<div>\n",
       "<style scoped>\n",
       "    .dataframe tbody tr th:only-of-type {\n",
       "        vertical-align: middle;\n",
       "    }\n",
       "\n",
       "    .dataframe tbody tr th {\n",
       "        vertical-align: top;\n",
       "    }\n",
       "\n",
       "    .dataframe thead tr th {\n",
       "        text-align: left;\n",
       "    }\n",
       "\n",
       "    .dataframe thead tr:last-of-type th {\n",
       "        text-align: right;\n",
       "    }\n",
       "</style>\n",
       "<table border=\"1\" class=\"dataframe\">\n",
       "  <thead>\n",
       "    <tr>\n",
       "      <th></th>\n",
       "      <th></th>\n",
       "      <th colspan=\"2\" halign=\"left\">Yield</th>\n",
       "      <th colspan=\"2\" halign=\"left\">Mean</th>\n",
       "      <th colspan=\"2\" halign=\"left\">N50</th>\n",
       "      <th>Sample</th>\n",
       "      <th>Panel</th>\n",
       "      <th>Gene number</th>\n",
       "      <th>Median Off Target Coverage</th>\n",
       "      <th>Median Target Coverage</th>\n",
       "    </tr>\n",
       "    <tr>\n",
       "      <th></th>\n",
       "      <th>read_type</th>\n",
       "      <th>Seq.</th>\n",
       "      <th>Unb.</th>\n",
       "      <th>Seq.</th>\n",
       "      <th>Unb.</th>\n",
       "      <th>Seq.</th>\n",
       "      <th>Unb.</th>\n",
       "      <th></th>\n",
       "      <th></th>\n",
       "      <th></th>\n",
       "      <th></th>\n",
       "      <th></th>\n",
       "    </tr>\n",
       "    <tr>\n",
       "      <th>Barcode</th>\n",
       "      <th>Device</th>\n",
       "      <th></th>\n",
       "      <th></th>\n",
       "      <th></th>\n",
       "      <th></th>\n",
       "      <th></th>\n",
       "      <th></th>\n",
       "      <th></th>\n",
       "      <th></th>\n",
       "      <th></th>\n",
       "      <th></th>\n",
       "      <th></th>\n",
       "    </tr>\n",
       "  </thead>\n",
       "  <tbody>\n",
       "    <tr>\n",
       "      <th>barcode01</th>\n",
       "      <th>G.</th>\n",
       "      <td>3.345244e+08</td>\n",
       "      <td>3.465450e+09</td>\n",
       "      <td>1926.417947</td>\n",
       "      <td>554.378839</td>\n",
       "      <td>8149.0</td>\n",
       "      <td>555.0</td>\n",
       "      <td>GM12878</td>\n",
       "      <td>TruSight 170 Tumour Panel</td>\n",
       "      <td>170</td>\n",
       "      <td>1.000</td>\n",
       "      <td>12.00</td>\n",
       "    </tr>\n",
       "    <tr>\n",
       "      <th>barcode02</th>\n",
       "      <th>G.</th>\n",
       "      <td>1.238984e+09</td>\n",
       "      <td>4.839475e+09</td>\n",
       "      <td>4203.349585</td>\n",
       "      <td>550.872480</td>\n",
       "      <td>7191.0</td>\n",
       "      <td>552.0</td>\n",
       "      <td>NB4</td>\n",
       "      <td>TruSight RNA Fusion Panel</td>\n",
       "      <td>508</td>\n",
       "      <td>1.000</td>\n",
       "      <td>15.00</td>\n",
       "    </tr>\n",
       "    <tr>\n",
       "      <th>barcode03</th>\n",
       "      <th>G.</th>\n",
       "      <td>1.248408e+09</td>\n",
       "      <td>3.835499e+09</td>\n",
       "      <td>5065.192309</td>\n",
       "      <td>555.972116</td>\n",
       "      <td>6858.0</td>\n",
       "      <td>556.0</td>\n",
       "      <td>22Rv1</td>\n",
       "      <td>COSMIC</td>\n",
       "      <td>717</td>\n",
       "      <td>1.000</td>\n",
       "      <td>12.00</td>\n",
       "    </tr>\n",
       "    <tr>\n",
       "      <th>unclassified_grid</th>\n",
       "      <th>G.</th>\n",
       "      <td>1.709108e+08</td>\n",
       "      <td>3.658782e+09</td>\n",
       "      <td>798.171085</td>\n",
       "      <td>733.417091</td>\n",
       "      <td>923.0</td>\n",
       "      <td>792.0</td>\n",
       "      <td>*</td>\n",
       "      <td>*</td>\n",
       "      <td>*</td>\n",
       "      <td>0.000</td>\n",
       "      <td>1.00</td>\n",
       "    </tr>\n",
       "    <tr>\n",
       "      <th>barcode05</th>\n",
       "      <th>P.</th>\n",
       "      <td>1.278234e+09</td>\n",
       "      <td>1.476375e+10</td>\n",
       "      <td>930.660416</td>\n",
       "      <td>897.375697</td>\n",
       "      <td>7163.0</td>\n",
       "      <td>917.0</td>\n",
       "      <td>GM12878</td>\n",
       "      <td>TruSight 170 Tumour Panel</td>\n",
       "      <td>170</td>\n",
       "      <td>4.000</td>\n",
       "      <td>35.00</td>\n",
       "    </tr>\n",
       "    <tr>\n",
       "      <th>barcode06</th>\n",
       "      <th>P.</th>\n",
       "      <td>4.357606e+09</td>\n",
       "      <td>2.339281e+10</td>\n",
       "      <td>1914.922736</td>\n",
       "      <td>903.235613</td>\n",
       "      <td>7349.0</td>\n",
       "      <td>919.0</td>\n",
       "      <td>NB4</td>\n",
       "      <td>TruSight RNA Fusion Panel</td>\n",
       "      <td>508</td>\n",
       "      <td>7.635</td>\n",
       "      <td>52.00</td>\n",
       "    </tr>\n",
       "    <tr>\n",
       "      <th>barcode07</th>\n",
       "      <th>P.</th>\n",
       "      <td>3.010605e+09</td>\n",
       "      <td>1.363278e+10</td>\n",
       "      <td>2224.730111</td>\n",
       "      <td>909.816885</td>\n",
       "      <td>6999.0</td>\n",
       "      <td>923.0</td>\n",
       "      <td>22Rv1</td>\n",
       "      <td>COSMIC</td>\n",
       "      <td>717</td>\n",
       "      <td>4.000</td>\n",
       "      <td>27.25</td>\n",
       "    </tr>\n",
       "    <tr>\n",
       "      <th>unclassified_prom</th>\n",
       "      <th>P.</th>\n",
       "      <td>7.036909e+08</td>\n",
       "      <td>1.549620e+10</td>\n",
       "      <td>507.391720</td>\n",
       "      <td>962.700204</td>\n",
       "      <td>543.0</td>\n",
       "      <td>989.0</td>\n",
       "      <td>*</td>\n",
       "      <td>*</td>\n",
       "      <td>*</td>\n",
       "      <td>4.000</td>\n",
       "      <td>5.00</td>\n",
       "    </tr>\n",
       "  </tbody>\n",
       "</table>\n",
       "</div>"
      ],
      "text/plain": [
       "                                 Yield                       Mean              \\\n",
       "read_type                         Seq.          Unb.         Seq.        Unb.   \n",
       "Barcode           Device                                                        \n",
       "barcode01         G.      3.345244e+08  3.465450e+09  1926.417947  554.378839   \n",
       "barcode02         G.      1.238984e+09  4.839475e+09  4203.349585  550.872480   \n",
       "barcode03         G.      1.248408e+09  3.835499e+09  5065.192309  555.972116   \n",
       "unclassified_grid G.      1.709108e+08  3.658782e+09   798.171085  733.417091   \n",
       "barcode05         P.      1.278234e+09  1.476375e+10   930.660416  897.375697   \n",
       "barcode06         P.      4.357606e+09  2.339281e+10  1914.922736  903.235613   \n",
       "barcode07         P.      3.010605e+09  1.363278e+10  2224.730111  909.816885   \n",
       "unclassified_prom P.      7.036909e+08  1.549620e+10   507.391720  962.700204   \n",
       "\n",
       "                             N50          Sample                      Panel  \\\n",
       "read_type                   Seq.   Unb.                                       \n",
       "Barcode           Device                                                      \n",
       "barcode01         G.      8149.0  555.0  GM12878  TruSight 170 Tumour Panel   \n",
       "barcode02         G.      7191.0  552.0      NB4  TruSight RNA Fusion Panel   \n",
       "barcode03         G.      6858.0  556.0    22Rv1                     COSMIC   \n",
       "unclassified_grid G.       923.0  792.0        *                          *   \n",
       "barcode05         P.      7163.0  917.0  GM12878  TruSight 170 Tumour Panel   \n",
       "barcode06         P.      7349.0  919.0      NB4  TruSight RNA Fusion Panel   \n",
       "barcode07         P.      6999.0  923.0    22Rv1                     COSMIC   \n",
       "unclassified_prom P.       543.0  989.0        *                          *   \n",
       "\n",
       "                         Gene number Median Off Target Coverage  \\\n",
       "read_type                                                         \n",
       "Barcode           Device                                          \n",
       "barcode01         G.             170                      1.000   \n",
       "barcode02         G.             508                      1.000   \n",
       "barcode03         G.             717                      1.000   \n",
       "unclassified_grid G.               *                      0.000   \n",
       "barcode05         P.             170                      4.000   \n",
       "barcode06         P.             508                      7.635   \n",
       "barcode07         P.             717                      4.000   \n",
       "unclassified_prom P.               *                      4.000   \n",
       "\n",
       "                         Median Target Coverage  \n",
       "read_type                                        \n",
       "Barcode           Device                         \n",
       "barcode01         G.                      12.00  \n",
       "barcode02         G.                      15.00  \n",
       "barcode03         G.                      12.00  \n",
       "unclassified_grid G.                       1.00  \n",
       "barcode05         P.                      35.00  \n",
       "barcode06         P.                      52.00  \n",
       "barcode07         P.                      27.25  \n",
       "unclassified_prom P.                       5.00  "
      ]
     },
     "execution_count": 126,
     "metadata": {},
     "output_type": "execute_result"
    }
   ],
   "source": [
    "t"
   ]
  },
  {
   "cell_type": "code",
   "execution_count": 127,
   "id": "eb99adf8-6c72-4cb4-8720-682e1a7721a9",
   "metadata": {},
   "outputs": [],
   "source": [
    "t[\"Fold Enrichment\"] = t[\"Median Target Coverage\"] / t[\"Median Off Target Coverage\"]"
   ]
  },
  {
   "cell_type": "code",
   "execution_count": 128,
   "id": "502e3932-d525-48ed-816b-fb315fa279e7",
   "metadata": {},
   "outputs": [
    {
     "name": "stderr",
     "output_type": "stream",
     "text": [
      "/tmp/ipykernel_684477/438197521.py:1: FutureWarning: Setting an item of incompatible dtype is deprecated and will raise an error in a future version of pandas. Value '*' has dtype incompatible with float64, please explicitly cast to a compatible dtype first.\n",
      "  t.loc[[\"unclassified_grid\", \"unclassified_prom\"], \"Fold Enrichment\"] = \"*\"\n"
     ]
    }
   ],
   "source": [
    "t.loc[[\"unclassified_grid\", \"unclassified_prom\"], \"Fold Enrichment\"] = \"*\""
   ]
  },
  {
   "cell_type": "code",
   "execution_count": 129,
   "id": "9005c6bd-7620-49c4-b193-f98fa3de9adc",
   "metadata": {},
   "outputs": [
    {
     "data": {
      "text/plain": [
       "MultiIndex([(        'barcode01', 'G.'),\n",
       "            (        'barcode02', 'G.'),\n",
       "            (        'barcode03', 'G.'),\n",
       "            ('unclassified_grid', 'G.'),\n",
       "            (        'barcode05', 'P.'),\n",
       "            (        'barcode06', 'P.'),\n",
       "            (        'barcode07', 'P.'),\n",
       "            ('unclassified_prom', 'P.')],\n",
       "           names=['Barcode', 'Device'])"
      ]
     },
     "execution_count": 129,
     "metadata": {},
     "output_type": "execute_result"
    }
   ],
   "source": [
    "t.index"
   ]
  },
  {
   "cell_type": "code",
   "execution_count": 130,
   "id": "251cef64-6f93-4d77-b95e-29eabf2ae8bf",
   "metadata": {},
   "outputs": [],
   "source": [
    " total_df= t.groupby(level=1).agg({('Mean', 'Seq.'): \"mean\", ('Mean', 'Unb.'): \"mean\", ('Yield', 'Seq.'): \"sum\", ('Yield', 'Unb.'): \"sum\"}).reset_index()\n",
    " total_df[\"Barcode\"] = \"Total\"\n",
    " t = pd.concat((t, total_df.set_index([\"Barcode\", \"Device\"])))\n",
    " t = t.reindex([('barcode01', 'G.'), ('barcode02', 'G.'), ('barcode03', 'G.'),\n",
    "       ('unclassified_grid', 'G.'), ('Total', 'G.'), ('barcode05', 'P.'),\n",
    "       ('barcode06', 'P.'), ('barcode07', 'P.'),\n",
    "       ('unclassified_prom', 'P.'), ('Total', 'P.')])"
   ]
  },
  {
   "cell_type": "code",
   "execution_count": 131,
   "id": "11d8e7e4-c9fc-4bec-891e-f96e39d89d74",
   "metadata": {},
   "outputs": [],
   "source": [
    "def format_bases(num: int, factor: int = 1000, suffix: str = \"B\") -> str:\n",
    "    \"\"\"Return a human readable string of a large number using SI unit prefixes\n",
    "\n",
    "    :pararm num: A number to convert to decimal form\n",
    "    :param factor: The SI factor, use 1000 for SI units and 1024 for binary multiples\n",
    "    :param suffix: The suffix to place after the SI prefix, for example use B for SI units and iB for binary multiples\n",
    "    :return: The input number formatted to two decimal places with the SI unit and suffix\n",
    "\n",
    "    :Example:\n",
    "\n",
    "    >>> format_bases(1_000)\n",
    "    '1.00 kB'\n",
    "    >>> format_bases(1_000_000)\n",
    "    '1.00 MB'\n",
    "    >>> format_bases(1_630_000)\n",
    "    '1.63 MB'\n",
    "    >>> format_bases(1_000_000_000)\n",
    "    '1.00 GB'\n",
    "    \"\"\"\n",
    "    if isinstance(num, float) or isinstance(num, int):\n",
    "        for unit in [\"\", \"k\", \"M\", \"G\", \"T\", \"P\", \"E\", \"Z\"]:\n",
    "            if abs(num) < factor:\n",
    "                return f\"{num:3.2f}\"\n",
    "            num /= factor\n",
    "        return f\"{num:3.2f}\"\n",
    "    else:\n",
    "        return num\n",
    "\n",
    "\n",
    "def format_fold(x: int) -> str:\n",
    "    \"\"\"\n",
    "    Format the fold change\n",
    "    \"\"\"\n",
    "    if not isinstance(x, float):\n",
    "        return x\n",
    "    # Check if the value is an integer\n",
    "    if isinstance(x, (int, float)) and x == int(x):\n",
    "        return f\"{int(x)}x\"\n",
    "    # Otherwise, format to one decimal place\n",
    "    elif isinstance(x, float):\n",
    "        return f\"{x:.1f}x\"\n",
    "    return x"
   ]
  },
  {
   "cell_type": "code",
   "execution_count": 179,
   "id": "8607e302-3f5a-4b17-a71e-ba891066e8a6",
   "metadata": {},
   "outputs": [],
   "source": [
    "t = t.fillna(\"\")\n",
    "t.columns.names = [None, \"End Reason\"]\n",
    "idx = pd.IndexSlice\n",
    "subset = idx[\n",
    "    :,\n",
    "    [(metric, end_reason) for end_reason in (\"Seq.\", \"Unb.\") for metric in [\"Yield\"]],\n",
    "]\n",
    "idx2 = pd.IndexSlice\n",
    "subset2 = idx2[:, (\"Fold Enrichment\", \"\")]\n",
    "idx3 = pd.IndexSlice\n",
    "subset3 = idx3[\n",
    "    :,\n",
    "    [\n",
    "        (\"Yield\", \"Seq.\"),\n",
    "        (\"Yield\", \"Unb.\"),\n",
    "        (\"Mean\", \"Seq.\"),\n",
    "        (\"Mean\", \"Unb.\"),\n",
    "        (\"N50\", \"Seq.\"),\n",
    "        (\"N50\", \"Unb.\"),\n",
    "        (\"Median Off Target Coverage\", \"\"),\n",
    "        (\"Median Target Coverage\", \"\"),\n",
    "        (\"Fold Enrichment\", \"\"),\n",
    "    ],\n",
    "]\n",
    "s = (\n",
    "    t.style.hide(axis=0, level=1, names=True)\n",
    "    .format(precision=0, subset=subset3, thousands=\",\")\n",
    "    .format(format_bases, subset=subset)\n",
    "    .relabel_index(\n",
    "        t.columns.get_level_values(0).map(\n",
    "            lambda x: \"Yield\\n(Gb)\" if str(x) == \"Yield\" else x\n",
    "        ),\n",
    "        axis=1,\n",
    "        level=0,\n",
    "    )\n",
    "    .format_index(escape=\"latex\", axis=0)\n",
    "    .format_index(\"\\\\textbf{{{}}}\", escape=\"latex\", axis=1, level=[0, 1])\n",
    "    .to_latex(\n",
    "        position_float=\"centering\",\n",
    "        hrules=True,\n",
    "        column_format=\"\".join(repeat(\"X \", len(t.columns))),\n",
    "        environment=\"table\",\n",
    "    )\n",
    ").replace(\"tabular\", \"tabularx\").replace(\"\\centering\", \"\\centering\\n\\scriptsize\")"
   ]
  },
  {
   "cell_type": "code",
   "execution_count": 180,
   "id": "3e0a97ad-b7bb-497b-b3a4-1fa4842f7f25",
   "metadata": {},
   "outputs": [
    {
     "name": "stdout",
     "output_type": "stream",
     "text": [
      "\\begin{table}\n",
      "\\centering\n",
      "\\scriptsize\n",
      "\\begin{tabularx}{X X X X X X X X X X X X}\n",
      "\\toprule\n",
      " & \\multicolumn{2}{r}{\\textbf{Yield}} & \\multicolumn{2}{r}{\\textbf{Mean}} & \\multicolumn{2}{r}{\\textbf{N50}} & \\textbf{Sample} & \\textbf{Panel} & \\textbf{Gene number} & \\textbf{Median Off Target Coverage} & \\textbf{Median Target Coverage} & \\textbf{Fold Enrichment} \\\\\n",
      "End Reason & \\textbf{Seq.} & \\textbf{Unb.} & \\textbf{Seq.} & \\textbf{Unb.} & \\textbf{Seq.} & \\textbf{Unb.} & \\textbf{} & \\textbf{} & \\textbf{} & \\textbf{} & \\textbf{} & \\textbf{} \\\\\n",
      "\\midrule\n",
      "barcode01 & 334.52 & 3.47 & 1,926 & 554 & 8,149 & 555 & GM12878 & TruSight 170 Tumour Panel & 170 & 1 & 12 & 12 \\\\\n",
      "barcode02 & 1.24 & 4.84 & 4,203 & 551 & 7,191 & 552 & NB4 & TruSight RNA Fusion Panel & 508 & 1 & 15 & 15 \\\\\n",
      "barcode03 & 1.25 & 3.84 & 5,065 & 556 & 6,858 & 556 & 22Rv1 & COSMIC & 717 & 1 & 12 & 12 \\\\\n",
      "unclassified\\_grid & 170.91 & 3.66 & 798 & 733 & 923 & 792 & * & * & * & 0 & 1 & * \\\\\n",
      "Total & 2.99 & 15.80 & 2,998 & 599 &  &  &  &  &  &  &  &  \\\\\n",
      "barcode05 & 1.28 & 14.76 & 931 & 897 & 7,163 & 917 & GM12878 & TruSight 170 Tumour Panel & 170 & 4 & 35 & 9 \\\\\n",
      "barcode06 & 4.36 & 23.39 & 1,915 & 903 & 7,349 & 919 & NB4 & TruSight RNA Fusion Panel & 508 & 8 & 52 & 7 \\\\\n",
      "barcode07 & 3.01 & 13.63 & 2,225 & 910 & 6,999 & 923 & 22Rv1 & COSMIC & 717 & 4 & 27 & 7 \\\\\n",
      "unclassified\\_prom & 703.69 & 15.50 & 507 & 963 & 543 & 989 & * & * & * & 4 & 5 & * \\\\\n",
      "Total & 9.35 & 67.29 & 1,394 & 918 &  &  &  &  &  &  &  &  \\\\\n",
      "\\bottomrule\n",
      "\\end{tabularx}\n",
      "\\end{table}\n",
      "\n"
     ]
    }
   ],
   "source": [
    "print(s)"
   ]
  },
  {
   "cell_type": "code",
   "execution_count": 174,
   "id": "368f0310-1d10-4e95-b27a-55cdf122a424",
   "metadata": {},
   "outputs": [
    {
     "data": {
      "text/plain": [
       "12"
      ]
     },
     "execution_count": 174,
     "metadata": {},
     "output_type": "execute_result"
    }
   ],
   "source": [
    "len(t.columns)"
   ]
  },
  {
   "cell_type": "code",
   "execution_count": 172,
   "id": "661f584a-9dea-43cf-8942-0b436db19e27",
   "metadata": {},
   "outputs": [
    {
     "data": {
      "text/plain": [
       "'X X X X X X X X X X '"
      ]
     },
     "execution_count": 172,
     "metadata": {},
     "output_type": "execute_result"
    }
   ],
   "source": []
  },
  {
   "cell_type": "code",
   "execution_count": null,
   "id": "344db31e-93f7-4976-8ece-11b4ead1f29b",
   "metadata": {},
   "outputs": [],
   "source": []
  }
 ],
 "metadata": {
  "kernelspec": {
   "display_name": "Python 3 (ipykernel)",
   "language": "python",
   "name": "python3"
  },
  "language_info": {
   "codemirror_mode": {
    "name": "ipython",
    "version": 3
   },
   "file_extension": ".py",
   "mimetype": "text/x-python",
   "name": "python",
   "nbconvert_exporter": "python",
   "pygments_lexer": "ipython3",
   "version": "3.10.6"
  }
 },
 "nbformat": 4,
 "nbformat_minor": 5
}
