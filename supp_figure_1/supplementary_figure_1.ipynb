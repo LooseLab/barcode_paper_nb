{
 "cells": [
  {
   "cell_type": "markdown",
   "id": "9f1c7231-6668-4823-be7f-0b1d2ee9ee44",
   "metadata": {},
   "source": [
    "## Comparison of mappy vs mappy_rs speeds\n"
   ]
  },
  {
   "cell_type": "code",
   "execution_count": 92,
   "id": "5961692a-474e-49eb-bb7a-7c3bf89d8b65",
   "metadata": {},
   "outputs": [],
   "source": [
    "import gzip\n",
    "import re\n",
    "from io import StringIO\n",
    "from pathlib import Path\n",
    "\n",
    "import numpy as np\n",
    "import pandas as pd\n",
    "import seaborn as sns\n",
    "from alive_progress import alive_bar\n",
    "from mappy import Aligner, fastx_read\n",
    "from mappy_rs import Aligner as mp_rs_aligner\n",
    "from matplotlib import pyplot as plt"
   ]
  },
  {
   "cell_type": "code",
   "execution_count": 93,
   "id": "d5f9b1bc-36bc-4cf4-b8fe-7e71b84b97ef",
   "metadata": {},
   "outputs": [],
   "source": [
    "# Seaborn doesn't like pandas 2.1\n",
    "import warnings\n",
    "\n",
    "warnings.simplefilter(action=\"ignore\", category=FutureWarning)"
   ]
  },
  {
   "cell_type": "markdown",
   "id": "81eefc5d-f465-4e51-a39b-a60c50cda328",
   "metadata": {},
   "source": [
    "## Output of running \n",
    "```bash\n",
    "git clone https://github.com/adoni5/mappy-rs\n",
    "cd mappy-rs\n",
    "pip install .['benchmark']\n",
    "pip install importlib_metadata\n",
    "python -m pytest --benchmark-warmup-iterations=1 --maxfail=1 --benchmark-histogram --capture=tee-sys -v tests/benchmark.py\n",
    "```\n",
    "\n",
    "On a total of 15704 reads"
   ]
  },
  {
   "cell_type": "markdown",
   "id": "edef8739-235f-4bcc-bd2f-97510d75ba1e",
   "metadata": {},
   "source": [
    "### mappy_rs alignment"
   ]
  },
  {
   "cell_type": "code",
   "execution_count": 97,
   "id": "7376a283-fceb-4301-8166-6e72817e3ab7",
   "metadata": {},
   "outputs": [],
   "source": [
    "table = re.sub(\n",
    "    r\"(\\s{2,})\",\n",
    "    \"\\t\",\n",
    "    \"\"\"Name (time in s)                                     Min                 Max                Mean            StdDev              Median               IQR            Outliers     OPS            Rounds  Iterations\n",
    "test_aligner_with_threads[mappy_al_rs-16]        10.4345 (1.0)       10.5521 (1.0)       10.4920 (1.0)      0.0539 (1.66)      10.5101 (1.0)      0.0977 (2.87)          3;0  0.0953 (1.0)           5           5\n",
    "test_aligner_with_threads[mappy_al_rs-15]        11.0710 (1.06)      11.2589 (1.07)      11.1488 (1.06)     0.0745 (2.29)      11.1595 (1.06)     0.1047 (3.07)          2;0  0.0897 (0.94)          5           5\n",
    "test_aligner_with_threads[mappy_al_rs-14]        11.8606 (1.14)      11.9470 (1.13)      11.9034 (1.13)     0.0380 (1.17)      11.9013 (1.13)     0.0695 (2.04)          2;0  0.0840 (0.88)          5           5\n",
    "test_aligner_with_threads[mappy_al_rs-13]        12.6787 (1.22)      12.8156 (1.21)      12.7644 (1.22)     0.0545 (1.68)      12.7611 (1.21)     0.0707 (2.08)          1;0  0.0783 (0.82)          5           5\n",
    "test_aligner_with_threads[mappy_al_rs-12]        13.8389 (1.33)      14.0296 (1.33)      13.9010 (1.32)     0.0775 (2.39)      13.8853 (1.32)     0.0962 (2.82)          1;0  0.0719 (0.75)          5           5\n",
    "test_aligner_with_threads[mappy_al_rs-11]        14.9490 (1.43)      15.0310 (1.42)      14.9756 (1.43)     0.0325 (1.0)       14.9666 (1.42)     0.0340 (1.0)           1;0  0.0668 (0.70)          5           5\n",
    "test_aligner_with_threads[mappy_al_rs-10]        16.2953 (1.56)      16.4416 (1.56)      16.3910 (1.56)     0.0607 (1.87)      16.4257 (1.56)     0.0810 (2.38)          1;0  0.0610 (0.64)          5           5\n",
    "test_aligner_with_threads[mappy_al_rs-9]         18.0172 (1.73)      18.2136 (1.73)      18.1248 (1.73)     0.0832 (2.56)      18.1181 (1.72)     0.1430 (4.20)          2;0  0.0552 (0.58)          5           5\n",
    "test_aligner_with_threads[mappy_al_rs-8]         20.2212 (1.94)      20.3924 (1.93)      20.2783 (1.93)     0.0669 (2.06)      20.2667 (1.93)     0.0656 (1.93)          1;0  0.0493 (0.52)          5           5\n",
    "test_aligner_with_threads[mappy_al_rs-7]         22.9323 (2.20)      23.3007 (2.21)      23.0658 (2.20)     0.1465 (4.51)      23.0075 (2.19)     0.1900 (5.58)          1;0  0.0434 (0.45)          5           5\n",
    "test_aligner_with_threads[mappy_al_rs-6]         26.7019 (2.56)      27.1987 (2.58)      26.8577 (2.56)     0.2068 (6.37)      26.7583 (2.55)     0.2622 (7.70)          1;0  0.0372 (0.39)          5           5\n",
    "test_aligner_with_threads[mappy_al_rs-5]         32.0419 (3.07)      32.4836 (3.08)      32.1445 (3.06)     0.1905 (5.87)      32.0608 (3.05)     0.1437 (4.22)          1;1  0.0311 (0.33)          5           5\n",
    "test_aligner_with_threads[mappy_al_rs-4]         39.4735 (3.78)      40.7222 (3.86)      39.8027 (3.79)     0.5186 (15.97)     39.6118 (3.77)     0.3933 (11.55)         1;1  0.0251 (0.26)          5           5\n",
    "test_aligner_with_threads[mappy_al_rs-3]         51.4942 (4.93)      51.9605 (4.92)      51.7274 (4.93)     0.2067 (6.37)      51.6628 (4.92)     0.3674 (10.79)         2;0  0.0193 (0.20)          5           5\n",
    "test_aligner_with_threads[mappy_al_rs-2]         78.5067 (7.52)      79.5087 (7.53)      78.8986 (7.52)     0.3909 (12.04)     78.7496 (7.49)     0.5118 (15.03)         2;0  0.0127 (0.13)          5           5\n",
    "test_aligner_with_threads[mappy_al-None]        139.7420 (13.39)    141.3402 (13.39)    140.5425 (13.40)    0.5729 (17.64)    140.5418 (13.37)    0.5995 (17.61)         2;0  0.0071 (0.07)          5           5\n",
    "test_aligner_with_threads[mappy_al_rs-None]     153.5849 (14.72)    156.3891 (14.82)    155.1525 (14.79)    1.1084 (34.13)    155.5419 (14.80)    1.6347 (48.01)         2;0  0.0064 (0.07)          5           5\n",
    "test_aligner_with_threads[mappy_al_rs-1]        161.9901 (15.52)    162.4665 (15.40)    162.1628 (15.46)    0.1828 (5.63)     162.1067 (15.42)    0.1991 (5.85)          1;0  0.0062 (0.06)          5           5\"\"\",\n",
    ")"
   ]
  },
  {
   "cell_type": "code",
   "execution_count": 98,
   "id": "d767badf-a029-4fb4-a145-9fa321a9ac8b",
   "metadata": {},
   "outputs": [],
   "source": [
    "df = pd.read_csv(StringIO(table), sep=\"\\t\")"
   ]
  },
  {
   "cell_type": "code",
   "execution_count": 99,
   "id": "a629b089-a963-40ae-9d81-0d1cda0a6bb8",
   "metadata": {},
   "outputs": [],
   "source": [
    "df = df.rename(columns={\"Name (time in s)\": \"Name\"})"
   ]
  },
  {
   "cell_type": "code",
   "execution_count": 100,
   "id": "5fc36fc5-2950-43e2-8b4e-b2e5a57c403e",
   "metadata": {},
   "outputs": [],
   "source": [
    "friendly_names = {\"mappy_al_rs\": \"Mappy-rs\", \"mappy_al\": \"Mappy\"}\n",
    "\n",
    "\n",
    "def nameify(name: str) -> list[str, str]:\n",
    "    \"\"\"\n",
    "    Return mappy or mappy rs (number of threads) from a given test input string\n",
    "    \"\"\"\n",
    "    aligner, threads = name.split(\"[\")[-1][:-1].split(\"-\")\n",
    "    aligner = friendly_names.get(aligner, \"Unknown\")\n",
    "    print(\"None\" in threads)\n",
    "    threads = threads if \"None\" not in threads else \"Unthreaded\"\n",
    "    return [aligner, threads]"
   ]
  },
  {
   "cell_type": "code",
   "execution_count": 101,
   "id": "042bcd8e-140b-4b17-8106-869dfde58b0a",
   "metadata": {},
   "outputs": [
    {
     "name": "stdout",
     "output_type": "stream",
     "text": [
      "False\n",
      "False\n",
      "False\n",
      "False\n",
      "False\n",
      "False\n",
      "False\n",
      "False\n",
      "False\n",
      "False\n",
      "False\n",
      "False\n",
      "False\n",
      "False\n",
      "False\n",
      "True\n",
      "True\n",
      "False\n"
     ]
    }
   ],
   "source": [
    "df[[\"Aligner\", \"Threads\"]] = pd.DataFrame(np.vstack(df[\"Name\"].apply(nameify)))"
   ]
  },
  {
   "cell_type": "code",
   "execution_count": 102,
   "id": "0e88acb8-c483-4e78-b331-68a130eb57d3",
   "metadata": {},
   "outputs": [],
   "source": [
    "df[\"Mean\"] = df[\"Mean\"].str.extract(\"(\\d{2,}\\.\\d{4})\")\n",
    "df[\"Mean (s)\"] = pd.to_numeric(df[\"Mean\"])"
   ]
  },
  {
   "cell_type": "code",
   "execution_count": 103,
   "id": "46a89c95-5b87-4ffb-92bd-9f017526406c",
   "metadata": {},
   "outputs": [],
   "source": [
    "df = df.sort_values(\"Mean (s)\", ascending=False)"
   ]
  },
  {
   "cell_type": "code",
   "execution_count": 104,
   "id": "b155a578-485f-49b3-9dfc-68fcaeb9139c",
   "metadata": {},
   "outputs": [
    {
     "data": {
      "image/png": "[encoded data removed]",
      "text/plain": [
       "<Figure size 288x216 with 1 Axes>"
      ]
     },
     "metadata": {
      "needs_background": "light"
     },
     "output_type": "display_data"
    }
   ],
   "source": [
    "fig, ax = plt.subplots(nrows=1, ncols=1, figsize=(4, 3))\n",
    "ax = sns.scatterplot(data=df, x=\"Threads\", hue=\"Aligner\", y=\"Mean (s)\", ax=ax)\n",
    "ax.tick_params(axis=\"x\", rotation=90)"
   ]
  },
  {
   "cell_type": "markdown",
   "id": "9026081b-6286-4a83-b039-6955ce48f6d9",
   "metadata": {},
   "source": [
    "## Calculate mean time per read"
   ]
  },
  {
   "cell_type": "code",
   "execution_count": 105,
   "id": "96098491-2bf8-4737-8fdc-5c7af5e96251",
   "metadata": {},
   "outputs": [],
   "source": [
    "df[\"Per read (ms)\"] = df[\"Mean (s)\"] / 15704 * 1000"
   ]
  },
  {
   "cell_type": "code",
   "execution_count": 106,
   "id": "d56f8523-be25-4c81-8eaa-beaf28c44ca6",
   "metadata": {},
   "outputs": [
    {
     "data": {
      "image/png": "[encoded data removed]",
      "text/plain": [
       "<Figure size 288x216 with 1 Axes>"
      ]
     },
     "metadata": {},
     "output_type": "display_data"
    }
   ],
   "source": [
    "with sns.axes_style(\"white\"):\n",
    "    fig, ax = plt.subplots(nrows=1, ncols=1, figsize=(4, 3))\n",
    "    ax = sns.scatterplot(data=df, x=\"Threads\", hue=\"Aligner\", y=\"Per read (ms)\", ax=ax)\n",
    "    ax.tick_params(axis=\"x\", rotation=90)\n",
    "    sns.despine()\n",
    "    fig.savefig(\"mappy_rs_speed.png\", dpi=300, bbox_inches=\"tight\")\n",
    "\n",
    "    fig.savefig(\" Supplemental_Fig_S1.tiff\", dpi=300, bbox_inches=\"tight\")\n",
    "    fig.savefig(\"mappy_rs_speed.pdf\", dpi=300, bbox_inches=\"tight\")"
   ]
  },
  {
   "cell_type": "code",
   "execution_count": null,
   "id": "8e625d9a-d9ee-473b-b7e9-db1afd4d7eb3",
   "metadata": {},
   "outputs": [],
   "source": []
  }
 ],
 "metadata": {
  "kernelspec": {
   "display_name": "Python 3 (ipykernel)",
   "language": "python",
   "name": "python3"
  },
  "language_info": {
   "codemirror_mode": {
    "name": "ipython",
    "version": 3
   },
   "file_extension": ".py",
   "mimetype": "text/x-python",
   "name": "python",
   "nbconvert_exporter": "python",
   "pygments_lexer": "ipython3",
   "version": "3.10.6"
  }
 },
 "nbformat": 4,
 "nbformat_minor": 5
}
